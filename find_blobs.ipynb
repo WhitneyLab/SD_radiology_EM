{
 "cells": [
  {
   "cell_type": "markdown",
   "metadata": {},
   "source": [
    "# Initialize"
   ]
  },
  {
   "cell_type": "code",
   "execution_count": 33,
   "metadata": {
    "ExecuteTime": {
     "end_time": "2020-04-15T02:08:08.960108Z",
     "start_time": "2020-04-15T02:08:08.939209Z"
    }
   },
   "outputs": [],
   "source": [
    "from pupil_apriltags import Detector, Detection\n",
    "from collections import defaultdict\n",
    "from typing import List, Dict, Tuple, Any\n",
    "from glob import glob\n",
    "import numpy as np\n",
    "import os\n",
    "import time\n",
    "import sys\n",
    "import cv2\n",
    "from math import atan2, degrees\n",
    "import platform\n",
    "import socket\n",
    "import matplotlib.pyplot as plt\n",
    "import math\n",
    "from statsFuncs import trigonometry as trig\n",
    "import pandas as pd\n",
    "import utils\n",
    "import multiprocessing\n",
    "from joblib import Parallel, delayed"
   ]
  },
  {
   "cell_type": "markdown",
   "metadata": {},
   "source": [
    "# load data "
   ]
  },
  {
   "cell_type": "code",
   "execution_count": 26,
   "metadata": {
    "ExecuteTime": {
     "end_time": "2020-04-15T02:00:37.148268Z",
     "start_time": "2020-04-15T02:00:37.146221Z"
    }
   },
   "outputs": [],
   "source": [
    "datapath = os.getcwd() + '/data/'\n",
    "EM_path = '/home/teresa/Documents/Naive_Spring_Eye_Recordings/Subject_AS/000'"
   ]
  },
  {
   "cell_type": "code",
   "execution_count": 27,
   "metadata": {
    "ExecuteTime": {
     "end_time": "2020-04-15T02:00:37.332969Z",
     "start_time": "2020-04-15T02:00:37.320127Z"
    }
   },
   "outputs": [],
   "source": [
    "behavioral_data = pd.read_csv(datapath + 'S1_AdjustEyeTrack_2019_Dec_03_1223.csv')\n",
    "annotation_data = pd.read_csv(datapath + 'pl_msgs.csv')\n"
   ]
  },
  {
   "cell_type": "markdown",
   "metadata": {},
   "source": [
    "# Set up parallel computing "
   ]
  },
  {
   "cell_type": "code",
   "execution_count": 35,
   "metadata": {
    "ExecuteTime": {
     "end_time": "2020-04-15T02:08:40.757532Z",
     "start_time": "2020-04-15T02:08:40.754944Z"
    }
   },
   "outputs": [],
   "source": [
    "num_cores = multiprocessing.cpu_count()"
   ]
  },
  {
   "cell_type": "markdown",
   "metadata": {},
   "source": [
    "# Extract frames "
   ]
  },
  {
   "cell_type": "markdown",
   "metadata": {},
   "source": []
  },
  {
   "cell_type": "markdown",
   "metadata": {},
   "source": [
    "Create frame path using OS package\n",
    "Define the name of the directory to be created"
   ]
  },
  {
   "cell_type": "code",
   "execution_count": 28,
   "metadata": {
    "ExecuteTime": {
     "end_time": "2020-04-15T02:00:38.342909Z",
     "start_time": "2020-04-15T02:00:38.338489Z"
    },
    "scrolled": true
   },
   "outputs": [
    {
     "name": "stdout",
     "output_type": "stream",
     "text": [
      "Successfully created the directory /home/teresa/Documents/Naive_Spring_Eye_Recordings/Subject_AS/000/frames \n"
     ]
    }
   ],
   "source": [
    "video_path = EM_path + '/world.mp4'\n",
    "frames_path = EM_path + '/frames'\n",
    "\n",
    "try:\n",
    "    if not os.path.exists(frames_path):\n",
    "        os.mkdir(frames_path)\n",
    "    else:\n",
    "        print(\"Successfully created the directory %s \" % frames_path)\n",
    "except OSError:\n",
    "    print(\"Creation of the directory %s failed\" % frames_path)\n"
   ]
  },
  {
   "cell_type": "code",
   "execution_count": null,
   "metadata": {
    "ExecuteTime": {
     "start_time": "2020-04-15T02:12:47.344Z"
    }
   },
   "outputs": [],
   "source": [
    "utils.extract_frames(video_path, frames_path)\n"
   ]
  },
  {
   "cell_type": "code",
   "execution_count": null,
   "metadata": {},
   "outputs": [],
   "source": [
    "frames, tag_ids = utils.detect_tags(frames_path)"
   ]
  },
  {
   "cell_type": "code",
   "execution_count": null,
   "metadata": {},
   "outputs": [],
   "source": [
    "# Descriptive print statements\n",
    "tag_count = sum(count for count in tag_ids.values())\n",
    "print(f'Detected {tag_count} tags in {len(frames)} frames.')\n",
    "print(f'Found IDs of {list(tag_ids.keys())}.')"
   ]
  },
  {
   "cell_type": "markdown",
   "metadata": {},
   "source": [
    "# Trial loop "
   ]
  },
  {
   "cell_type": "code",
   "execution_count": null,
   "metadata": {},
   "outputs": [],
   "source": [
    "numTrials = len(behavioral_data)\n",
    "numBlocks = behavioral_data.blockNumber.unique()"
   ]
  },
  {
   "cell_type": "code",
   "execution_count": null,
   "metadata": {},
   "outputs": [],
   "source": [
    "for block in numBlocks:\n",
    "    for trial in range(numTrials):\n",
    "    \n",
    "    # find frames hwere trial happens\n",
    "    trial_data = annotation_data[(annotation_data['block'] == block) & (annotation_data['trial'] == trial + 1)]"
   ]
  }
 ],
 "metadata": {
  "kernelspec": {
   "display_name": "Python 3",
   "language": "python",
   "name": "python3"
  },
  "language_info": {
   "codemirror_mode": {
    "name": "ipython",
    "version": 3
   },
   "file_extension": ".py",
   "mimetype": "text/x-python",
   "name": "python",
   "nbconvert_exporter": "python",
   "pygments_lexer": "ipython3",
   "version": "3.7.5"
  },
  "toc": {
   "base_numbering": 1,
   "nav_menu": {},
   "number_sections": true,
   "sideBar": true,
   "skip_h1_title": false,
   "title_cell": "Table of Contents",
   "title_sidebar": "Contents",
   "toc_cell": false,
   "toc_position": {},
   "toc_section_display": true,
   "toc_window_display": false
  },
  "varInspector": {
   "cols": {
    "lenName": 16,
    "lenType": 16,
    "lenVar": 40
   },
   "kernels_config": {
    "python": {
     "delete_cmd_postfix": "",
     "delete_cmd_prefix": "del ",
     "library": "var_list.py",
     "varRefreshCmd": "print(var_dic_list())"
    },
    "r": {
     "delete_cmd_postfix": ") ",
     "delete_cmd_prefix": "rm(",
     "library": "var_list.r",
     "varRefreshCmd": "cat(var_dic_list()) "
    }
   },
   "types_to_exclude": [
    "module",
    "function",
    "builtin_function_or_method",
    "instance",
    "_Feature"
   ],
   "window_display": false
  }
 },
 "nbformat": 4,
 "nbformat_minor": 4
}
