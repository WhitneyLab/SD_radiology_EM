{
 "cells": [
  {
   "cell_type": "code",
   "execution_count": 27,
   "metadata": {},
   "outputs": [],
   "source": [
    "import numpy as np\n",
    "import pandas as pd\n",
    "from pupil_functions import *\n",
    "import platform\n",
    "from shutil import copyfile\n",
    "from find_blob import *"
   ]
  },
  {
   "cell_type": "markdown",
   "metadata": {},
   "source": [
    "# tracking delay\n",
    "## TCB_GOOD"
   ]
  },
  {
   "cell_type": "code",
   "execution_count": 28,
   "metadata": {},
   "outputs": [],
   "source": [
    "col = [\"block\", \"trial\", \"task\", \"sent\", \"received\"]\n",
    "timesTCB = pd.DataFrame(columns = col)"
   ]
  },
  {
   "cell_type": "code",
   "execution_count": 29,
   "metadata": {},
   "outputs": [],
   "source": [
    "dfTCB = load_manual_annotations(\"/Users/selena_zhang/Desktop/000\")"
   ]
  },
  {
   "source": [
    "#change none's to nearest numbers\n",
    "for idx, num in dfTCB.iloc[:, 4].items():\n",
    "    if num == None:\n",
    "        point = idx\n",
    "        while point >= 0:\n",
    "            #finds the nearest filled cell that is before it\n",
    "            point -= 1\n",
    "            val = dfTCB.iloc[point, 4]\n",
    "            if val is not None:\n",
    "                dfTCB.at[idx, \"trial\"] = val\n",
    "                break\n",
    "#first two must be manually done\n",
    "dfTCB.at[0, \"trial\"] = 1\n",
    "dfTCB.at[1, \"trial\"] = 1"
   ],
   "cell_type": "code",
   "metadata": {},
   "execution_count": 30,
   "outputs": []
  },
  {
   "cell_type": "code",
   "execution_count": null,
   "metadata": {},
   "outputs": [],
   "source": []
  },
  {
   "cell_type": "code",
   "execution_count": 31,
   "metadata": {},
   "outputs": [
    {
     "output_type": "execute_result",
     "data": {
      "text/plain": [
       "   block                                   exp_event          task  \\\n",
       "5      1          Image onset for trial 1 in block 1   Image onset   \n",
       "6   None                                 image onset                 \n",
       "7   None                         testing_image_onset                 \n",
       "8   None                                      adjust                 \n",
       "9      1   Adjust Task begins for trial 1 in block 1   Adjust task   \n",
       "10     1     Adjust Task ends for trial 1 in block 1                 \n",
       "11     1                   Ending trial 1 in block 1     End trial   \n",
       "12     1                Begin for trial 2 in block 1  Trial begins   \n",
       "13     1  Fixation dot begins for trial 2 in block 1  Fixation dot   \n",
       "14  None                                    fixation                 \n",
       "\n",
       "       timestamp trial  \n",
       "5   1.591225e+09     1  \n",
       "6   1.591225e+09     1  \n",
       "7   1.591225e+09     1  \n",
       "8   1.591225e+09     1  \n",
       "9   1.591225e+09     1  \n",
       "10  1.591225e+09     1  \n",
       "11  1.591225e+09     1  \n",
       "12  1.591225e+09     2  \n",
       "13  1.591225e+09     2  \n",
       "14  1.591225e+09     2  "
      ],
      "text/html": "<div>\n<style scoped>\n    .dataframe tbody tr th:only-of-type {\n        vertical-align: middle;\n    }\n\n    .dataframe tbody tr th {\n        vertical-align: top;\n    }\n\n    .dataframe thead th {\n        text-align: right;\n    }\n</style>\n<table border=\"1\" class=\"dataframe\">\n  <thead>\n    <tr style=\"text-align: right;\">\n      <th></th>\n      <th>block</th>\n      <th>exp_event</th>\n      <th>task</th>\n      <th>timestamp</th>\n      <th>trial</th>\n    </tr>\n  </thead>\n  <tbody>\n    <tr>\n      <th>5</th>\n      <td>1</td>\n      <td>Image onset for trial 1 in block 1</td>\n      <td>Image onset</td>\n      <td>1.591225e+09</td>\n      <td>1</td>\n    </tr>\n    <tr>\n      <th>6</th>\n      <td>None</td>\n      <td>image onset</td>\n      <td></td>\n      <td>1.591225e+09</td>\n      <td>1</td>\n    </tr>\n    <tr>\n      <th>7</th>\n      <td>None</td>\n      <td>testing_image_onset</td>\n      <td></td>\n      <td>1.591225e+09</td>\n      <td>1</td>\n    </tr>\n    <tr>\n      <th>8</th>\n      <td>None</td>\n      <td>adjust</td>\n      <td></td>\n      <td>1.591225e+09</td>\n      <td>1</td>\n    </tr>\n    <tr>\n      <th>9</th>\n      <td>1</td>\n      <td>Adjust Task begins for trial 1 in block 1</td>\n      <td>Adjust task</td>\n      <td>1.591225e+09</td>\n      <td>1</td>\n    </tr>\n    <tr>\n      <th>10</th>\n      <td>1</td>\n      <td>Adjust Task ends for trial 1 in block 1</td>\n      <td></td>\n      <td>1.591225e+09</td>\n      <td>1</td>\n    </tr>\n    <tr>\n      <th>11</th>\n      <td>1</td>\n      <td>Ending trial 1 in block 1</td>\n      <td>End trial</td>\n      <td>1.591225e+09</td>\n      <td>1</td>\n    </tr>\n    <tr>\n      <th>12</th>\n      <td>1</td>\n      <td>Begin for trial 2 in block 1</td>\n      <td>Trial begins</td>\n      <td>1.591225e+09</td>\n      <td>2</td>\n    </tr>\n    <tr>\n      <th>13</th>\n      <td>1</td>\n      <td>Fixation dot begins for trial 2 in block 1</td>\n      <td>Fixation dot</td>\n      <td>1.591225e+09</td>\n      <td>2</td>\n    </tr>\n    <tr>\n      <th>14</th>\n      <td>None</td>\n      <td>fixation</td>\n      <td></td>\n      <td>1.591225e+09</td>\n      <td>2</td>\n    </tr>\n  </tbody>\n</table>\n</div>"
     },
     "metadata": {},
     "execution_count": 31
    }
   ],
   "source": [
    "dfTCB[5:15]"
   ]
  },
  {
   "cell_type": "code",
   "execution_count": 32,
   "metadata": {},
   "outputs": [],
   "source": [
    "for idx, event in dfTCB.iterrows():\n",
    "    #first 10 trials\n",
    "    if float(dfTCB.iloc[idx, 4]) > 10:\n",
    "        break\n",
    "    #fixation\n",
    "    if dfTCB.iloc[idx, 2] == \"Fixation dot\":\n",
    "        task = \"Fixation dot\"\n",
    "        trial = dfTCB.iloc[idx, 4]\n",
    "        block = dfTCB.iloc[idx, 0]\n",
    "        sent = dfTCB.iloc[idx, 3]\n",
    "        if dfTCB.iloc[idx + 1, 1] == \"fixation\":\n",
    "            received = dfTCB.iloc[idx + 1, 3]\n",
    "        else:\n",
    "            received = dfTCB.iloc[idx - 1, 3]\n",
    "        row = [block, trial, task, sent, received]\n",
    "        timesTCB.loc[len(timesTCB), :] = row\n",
    "    #image onset\n",
    "    elif dfTCB.iloc[idx, 2] == \"Image onset\":\n",
    "        task = \"Image onset\"\n",
    "        trial = dfTCB.iloc[idx, 4]\n",
    "        block = dfTCB.iloc[idx, 0]\n",
    "        sent = dfTCB.iloc[idx, 3]\n",
    "        if dfTCB.iloc[idx + 1, 1] == \"image onset\":\n",
    "            received = dfTCB.iloc[idx + 1, 3]\n",
    "        else:\n",
    "            received = dfTCB.iloc[idx - 1, 3]        \n",
    "        row = [block, trial, task, sent, received]\n",
    "        timesTCB.loc[len(timesTCB), :] = row\n",
    "    elif dfTCB.iloc[idx, 2] == \"Adjust task\":\n",
    "        task = \"Adjust task\"\n",
    "        trial = dfTCB.iloc[idx, 4]\n",
    "        block = dfTCB.iloc[idx, 0]\n",
    "        sent = dfTCB.iloc[idx, 3]\n",
    "        if dfTCB.iloc[idx + 1, 1] == \"adjust\":\n",
    "            received = dfTCB.iloc[idx + 1, 3]\n",
    "        else:\n",
    "            received = dfTCB.iloc[idx - 1, 3]\n",
    "        row = [block, trial, task, sent, received]\n",
    "        timesTCB.loc[len(timesTCB), :] = row\n",
    "    else:\n",
    "        pass"
   ]
  },
  {
   "cell_type": "code",
   "execution_count": 33,
   "metadata": {},
   "outputs": [],
   "source": [
    "timesTCB[\"delay\"] = timesTCB[\"sent\"] - timesTCB[\"received\"]"
   ]
  },
  {
   "cell_type": "code",
   "execution_count": 34,
   "metadata": {},
   "outputs": [],
   "source": [
    "avg = timesTCB[\"delay\"].mean()"
   ]
  },
  {
   "cell_type": "code",
   "execution_count": 35,
   "metadata": {},
   "outputs": [],
   "source": [
    "if avg < 0:\n",
    "    timesTCB[\"fixedlag\"] = timesTCB[\"received\"] + avg #avg was negative\n",
    "elif avg > 0:\n",
    "    timesTCB[\"fixedlag\"] = timesTCB[\"received\"] - avg"
   ]
  },
  {
   "cell_type": "code",
   "execution_count": 36,
   "metadata": {},
   "outputs": [
    {
     "output_type": "execute_result",
     "data": {
      "text/plain": [
       "   block trial          task         sent     received        delay  \\\n",
       "0      1     1  Fixation dot  1.59123e+09  1.59123e+09   -0.0300457   \n",
       "1      1     1   Image onset  1.59123e+09  1.59123e+09    -0.139507   \n",
       "2      1     1   Adjust task  1.59123e+09  1.59123e+09   0.00205851   \n",
       "3      1     2  Fixation dot  1.59123e+09  1.59123e+09   -0.0401266   \n",
       "4      1     2   Image onset  1.59123e+09  1.59123e+09   -0.0865505   \n",
       "5      1     2   Adjust task  1.59123e+09  1.59123e+09  -0.00968146   \n",
       "6      1     3  Fixation dot  1.59123e+09  1.59123e+09   -0.0155714   \n",
       "7      1     3   Image onset  1.59123e+09  1.59123e+09   -0.0523214   \n",
       "8      1     3   Adjust task  1.59123e+09  1.59123e+09   -0.0153713   \n",
       "9      1     4  Fixation dot  1.59123e+09  1.59123e+09   -0.0435736   \n",
       "10     1     4   Image onset  1.59123e+09  1.59123e+09   -0.0708833   \n",
       "11     1     4   Adjust task  1.59123e+09  1.59123e+09   -0.0121765   \n",
       "12     1     5  Fixation dot  1.59123e+09  1.59123e+09   -0.0301986   \n",
       "13     1     5   Image onset  1.59123e+09  1.59123e+09    -0.101366   \n",
       "14     1     5   Adjust task  1.59123e+09  1.59123e+09 -0.000583649   \n",
       "15     1     6  Fixation dot  1.59123e+09  1.59123e+09   -0.0318704   \n",
       "16     1     6   Image onset  1.59123e+09  1.59123e+09   -0.0622344   \n",
       "17     1     6   Adjust task  1.59123e+09  1.59123e+09  -0.00207949   \n",
       "18     1     7  Fixation dot  1.59123e+09  1.59123e+09   -0.0275335   \n",
       "19     1     7   Image onset  1.59123e+09  1.59123e+09   -0.0839446   \n",
       "20     1     7   Adjust task  1.59123e+09  1.59123e+09  -0.00191927   \n",
       "21     1     8  Fixation dot  1.59123e+09  1.59123e+09   -0.0449276   \n",
       "22     1     8   Image onset  1.59123e+09  1.59123e+09   -0.0649564   \n",
       "23     1     8   Adjust task  1.59123e+09  1.59123e+09   0.00317526   \n",
       "24     1     9  Fixation dot  1.59123e+09  1.59123e+09   -0.0269365   \n",
       "25     1     9   Image onset  1.59123e+09  1.59123e+09   -0.0854013   \n",
       "26     1     9   Adjust task  1.59123e+09  1.59123e+09  -0.00366259   \n",
       "27     1    10  Fixation dot  1.59123e+09  1.59123e+09   -0.0457435   \n",
       "28     1    10   Image onset  1.59123e+09  1.59123e+09   -0.0583155   \n",
       "29     1    10   Adjust task  1.59123e+09  1.59123e+09   -0.0180385   \n",
       "\n",
       "       fixedlag  \n",
       "0   1.59123e+09  \n",
       "1   1.59123e+09  \n",
       "2   1.59123e+09  \n",
       "3   1.59123e+09  \n",
       "4   1.59123e+09  \n",
       "5   1.59123e+09  \n",
       "6   1.59123e+09  \n",
       "7   1.59123e+09  \n",
       "8   1.59123e+09  \n",
       "9   1.59123e+09  \n",
       "10  1.59123e+09  \n",
       "11  1.59123e+09  \n",
       "12  1.59123e+09  \n",
       "13  1.59123e+09  \n",
       "14  1.59123e+09  \n",
       "15  1.59123e+09  \n",
       "16  1.59123e+09  \n",
       "17  1.59123e+09  \n",
       "18  1.59123e+09  \n",
       "19  1.59123e+09  \n",
       "20  1.59123e+09  \n",
       "21  1.59123e+09  \n",
       "22  1.59123e+09  \n",
       "23  1.59123e+09  \n",
       "24  1.59123e+09  \n",
       "25  1.59123e+09  \n",
       "26  1.59123e+09  \n",
       "27  1.59123e+09  \n",
       "28  1.59123e+09  \n",
       "29  1.59123e+09  "
      ],
      "text/html": "<div>\n<style scoped>\n    .dataframe tbody tr th:only-of-type {\n        vertical-align: middle;\n    }\n\n    .dataframe tbody tr th {\n        vertical-align: top;\n    }\n\n    .dataframe thead th {\n        text-align: right;\n    }\n</style>\n<table border=\"1\" class=\"dataframe\">\n  <thead>\n    <tr style=\"text-align: right;\">\n      <th></th>\n      <th>block</th>\n      <th>trial</th>\n      <th>task</th>\n      <th>sent</th>\n      <th>received</th>\n      <th>delay</th>\n      <th>fixedlag</th>\n    </tr>\n  </thead>\n  <tbody>\n    <tr>\n      <th>0</th>\n      <td>1</td>\n      <td>1</td>\n      <td>Fixation dot</td>\n      <td>1.59123e+09</td>\n      <td>1.59123e+09</td>\n      <td>-0.0300457</td>\n      <td>1.59123e+09</td>\n    </tr>\n    <tr>\n      <th>1</th>\n      <td>1</td>\n      <td>1</td>\n      <td>Image onset</td>\n      <td>1.59123e+09</td>\n      <td>1.59123e+09</td>\n      <td>-0.139507</td>\n      <td>1.59123e+09</td>\n    </tr>\n    <tr>\n      <th>2</th>\n      <td>1</td>\n      <td>1</td>\n      <td>Adjust task</td>\n      <td>1.59123e+09</td>\n      <td>1.59123e+09</td>\n      <td>0.00205851</td>\n      <td>1.59123e+09</td>\n    </tr>\n    <tr>\n      <th>3</th>\n      <td>1</td>\n      <td>2</td>\n      <td>Fixation dot</td>\n      <td>1.59123e+09</td>\n      <td>1.59123e+09</td>\n      <td>-0.0401266</td>\n      <td>1.59123e+09</td>\n    </tr>\n    <tr>\n      <th>4</th>\n      <td>1</td>\n      <td>2</td>\n      <td>Image onset</td>\n      <td>1.59123e+09</td>\n      <td>1.59123e+09</td>\n      <td>-0.0865505</td>\n      <td>1.59123e+09</td>\n    </tr>\n    <tr>\n      <th>5</th>\n      <td>1</td>\n      <td>2</td>\n      <td>Adjust task</td>\n      <td>1.59123e+09</td>\n      <td>1.59123e+09</td>\n      <td>-0.00968146</td>\n      <td>1.59123e+09</td>\n    </tr>\n    <tr>\n      <th>6</th>\n      <td>1</td>\n      <td>3</td>\n      <td>Fixation dot</td>\n      <td>1.59123e+09</td>\n      <td>1.59123e+09</td>\n      <td>-0.0155714</td>\n      <td>1.59123e+09</td>\n    </tr>\n    <tr>\n      <th>7</th>\n      <td>1</td>\n      <td>3</td>\n      <td>Image onset</td>\n      <td>1.59123e+09</td>\n      <td>1.59123e+09</td>\n      <td>-0.0523214</td>\n      <td>1.59123e+09</td>\n    </tr>\n    <tr>\n      <th>8</th>\n      <td>1</td>\n      <td>3</td>\n      <td>Adjust task</td>\n      <td>1.59123e+09</td>\n      <td>1.59123e+09</td>\n      <td>-0.0153713</td>\n      <td>1.59123e+09</td>\n    </tr>\n    <tr>\n      <th>9</th>\n      <td>1</td>\n      <td>4</td>\n      <td>Fixation dot</td>\n      <td>1.59123e+09</td>\n      <td>1.59123e+09</td>\n      <td>-0.0435736</td>\n      <td>1.59123e+09</td>\n    </tr>\n    <tr>\n      <th>10</th>\n      <td>1</td>\n      <td>4</td>\n      <td>Image onset</td>\n      <td>1.59123e+09</td>\n      <td>1.59123e+09</td>\n      <td>-0.0708833</td>\n      <td>1.59123e+09</td>\n    </tr>\n    <tr>\n      <th>11</th>\n      <td>1</td>\n      <td>4</td>\n      <td>Adjust task</td>\n      <td>1.59123e+09</td>\n      <td>1.59123e+09</td>\n      <td>-0.0121765</td>\n      <td>1.59123e+09</td>\n    </tr>\n    <tr>\n      <th>12</th>\n      <td>1</td>\n      <td>5</td>\n      <td>Fixation dot</td>\n      <td>1.59123e+09</td>\n      <td>1.59123e+09</td>\n      <td>-0.0301986</td>\n      <td>1.59123e+09</td>\n    </tr>\n    <tr>\n      <th>13</th>\n      <td>1</td>\n      <td>5</td>\n      <td>Image onset</td>\n      <td>1.59123e+09</td>\n      <td>1.59123e+09</td>\n      <td>-0.101366</td>\n      <td>1.59123e+09</td>\n    </tr>\n    <tr>\n      <th>14</th>\n      <td>1</td>\n      <td>5</td>\n      <td>Adjust task</td>\n      <td>1.59123e+09</td>\n      <td>1.59123e+09</td>\n      <td>-0.000583649</td>\n      <td>1.59123e+09</td>\n    </tr>\n    <tr>\n      <th>15</th>\n      <td>1</td>\n      <td>6</td>\n      <td>Fixation dot</td>\n      <td>1.59123e+09</td>\n      <td>1.59123e+09</td>\n      <td>-0.0318704</td>\n      <td>1.59123e+09</td>\n    </tr>\n    <tr>\n      <th>16</th>\n      <td>1</td>\n      <td>6</td>\n      <td>Image onset</td>\n      <td>1.59123e+09</td>\n      <td>1.59123e+09</td>\n      <td>-0.0622344</td>\n      <td>1.59123e+09</td>\n    </tr>\n    <tr>\n      <th>17</th>\n      <td>1</td>\n      <td>6</td>\n      <td>Adjust task</td>\n      <td>1.59123e+09</td>\n      <td>1.59123e+09</td>\n      <td>-0.00207949</td>\n      <td>1.59123e+09</td>\n    </tr>\n    <tr>\n      <th>18</th>\n      <td>1</td>\n      <td>7</td>\n      <td>Fixation dot</td>\n      <td>1.59123e+09</td>\n      <td>1.59123e+09</td>\n      <td>-0.0275335</td>\n      <td>1.59123e+09</td>\n    </tr>\n    <tr>\n      <th>19</th>\n      <td>1</td>\n      <td>7</td>\n      <td>Image onset</td>\n      <td>1.59123e+09</td>\n      <td>1.59123e+09</td>\n      <td>-0.0839446</td>\n      <td>1.59123e+09</td>\n    </tr>\n    <tr>\n      <th>20</th>\n      <td>1</td>\n      <td>7</td>\n      <td>Adjust task</td>\n      <td>1.59123e+09</td>\n      <td>1.59123e+09</td>\n      <td>-0.00191927</td>\n      <td>1.59123e+09</td>\n    </tr>\n    <tr>\n      <th>21</th>\n      <td>1</td>\n      <td>8</td>\n      <td>Fixation dot</td>\n      <td>1.59123e+09</td>\n      <td>1.59123e+09</td>\n      <td>-0.0449276</td>\n      <td>1.59123e+09</td>\n    </tr>\n    <tr>\n      <th>22</th>\n      <td>1</td>\n      <td>8</td>\n      <td>Image onset</td>\n      <td>1.59123e+09</td>\n      <td>1.59123e+09</td>\n      <td>-0.0649564</td>\n      <td>1.59123e+09</td>\n    </tr>\n    <tr>\n      <th>23</th>\n      <td>1</td>\n      <td>8</td>\n      <td>Adjust task</td>\n      <td>1.59123e+09</td>\n      <td>1.59123e+09</td>\n      <td>0.00317526</td>\n      <td>1.59123e+09</td>\n    </tr>\n    <tr>\n      <th>24</th>\n      <td>1</td>\n      <td>9</td>\n      <td>Fixation dot</td>\n      <td>1.59123e+09</td>\n      <td>1.59123e+09</td>\n      <td>-0.0269365</td>\n      <td>1.59123e+09</td>\n    </tr>\n    <tr>\n      <th>25</th>\n      <td>1</td>\n      <td>9</td>\n      <td>Image onset</td>\n      <td>1.59123e+09</td>\n      <td>1.59123e+09</td>\n      <td>-0.0854013</td>\n      <td>1.59123e+09</td>\n    </tr>\n    <tr>\n      <th>26</th>\n      <td>1</td>\n      <td>9</td>\n      <td>Adjust task</td>\n      <td>1.59123e+09</td>\n      <td>1.59123e+09</td>\n      <td>-0.00366259</td>\n      <td>1.59123e+09</td>\n    </tr>\n    <tr>\n      <th>27</th>\n      <td>1</td>\n      <td>10</td>\n      <td>Fixation dot</td>\n      <td>1.59123e+09</td>\n      <td>1.59123e+09</td>\n      <td>-0.0457435</td>\n      <td>1.59123e+09</td>\n    </tr>\n    <tr>\n      <th>28</th>\n      <td>1</td>\n      <td>10</td>\n      <td>Image onset</td>\n      <td>1.59123e+09</td>\n      <td>1.59123e+09</td>\n      <td>-0.0583155</td>\n      <td>1.59123e+09</td>\n    </tr>\n    <tr>\n      <th>29</th>\n      <td>1</td>\n      <td>10</td>\n      <td>Adjust task</td>\n      <td>1.59123e+09</td>\n      <td>1.59123e+09</td>\n      <td>-0.0180385</td>\n      <td>1.59123e+09</td>\n    </tr>\n  </tbody>\n</table>\n</div>"
     },
     "metadata": {},
     "execution_count": 36
    }
   ],
   "source": [
    "timesTCB"
   ]
  },
  {
   "cell_type": "code",
   "execution_count": 37,
   "metadata": {},
   "outputs": [],
   "source": [
    "#for the binary SD marker\n",
    "TCBbehavioral = pd.read_csv(\"/Users/selena_zhang/Desktop/000/TCBbehavioral.csv\")"
   ]
  },
  {
   "cell_type": "code",
   "execution_count": 38,
   "metadata": {},
   "outputs": [],
   "source": [
    "def SDlabel_trials1(behavioral_df):\n",
    "    trial_unique = behavioral_df.trialNumber.unique()\n",
    "    block_unique = behavioral_df.blockNumber.unique()\n",
    "    behavioral_df[\"SD_CONDITION\"] = \"\"\n",
    "    row = 0\n",
    "    for idx, col in behavioral_df.iterrows():\n",
    "        if (behavioral_df.loc[row, \"Stim_diff\"] < 0) & (behavioral_df.loc[row, \"responseError\"] < 0):\n",
    "            behavioral_df.set_value(row, \"SD_CONDITION\", \"SD\")\n",
    "            row += 1\n",
    "        elif (behavioral_df.loc[row, \"Stim_diff\"] > 0) & (behavioral_df.loc[row, \"responseError\"] > 0):\n",
    "            behavioral_df.set_value(row, \"SD_CONDITION\", \"SD\")\n",
    "            row += 1\n",
    "        elif np.isnan(behavioral_df.loc[row, \"Stim_diff\"]) or np.isnan(behavioral_df.loc[row, \"responseError\"]):\n",
    "            row += 1\n",
    "        else:\n",
    "            behavioral_df.set_value(row, \"SD_CONDITION\", \"NO_SD\")\n",
    "            row += 1\n",
    "    return behavioral_df"
   ]
  },
  {
   "cell_type": "code",
   "execution_count": 39,
   "metadata": {},
   "outputs": [
    {
     "output_type": "execute_result",
     "data": {
      "text/plain": [
       "     stimulusID  morphID        RT  trialNumber  blockNumber  stimLocationDeg  \\\n",
       "0          81.0     86.0  1.214150          1.0          1.0            142.0   \n",
       "1          50.0     47.0  2.031325          2.0          1.0            247.0   \n",
       "2          77.0     81.0  2.982389          3.0          1.0             65.0   \n",
       "3         145.0    125.0  2.935164          4.0          1.0            220.0   \n",
       "4         119.0    103.0  2.170834          5.0          1.0            165.0   \n",
       "..          ...      ...       ...          ...          ...              ...   \n",
       "244        46.0     51.0  4.196066         80.0          3.0            272.0   \n",
       "245       126.0    120.0  7.843110         81.0          3.0              7.0   \n",
       "246        62.0     42.0  2.058722         82.0          3.0            274.0   \n",
       "247         5.0     13.0  3.374745         83.0          3.0            108.0   \n",
       "248        68.0     64.0  1.506258         84.0          3.0            237.0   \n",
       "\n",
       "     shifted_stimulusID  shifted_stimLocationDeg  shifted_morphID  Error  \\\n",
       "0                  50.0                    247.0             47.0   -3.0   \n",
       "1                  77.0                     65.0             81.0    4.0   \n",
       "2                 145.0                    220.0            125.0  -20.0   \n",
       "3                 119.0                    165.0            103.0  -16.0   \n",
       "4                  64.0                    101.0             66.0    2.0   \n",
       "..                  ...                      ...              ...    ...   \n",
       "244               126.0                      7.0            120.0   -6.0   \n",
       "245                62.0                    274.0             42.0  -20.0   \n",
       "246                 5.0                    108.0             13.0    8.0   \n",
       "247                68.0                    237.0             64.0   -4.0   \n",
       "248               128.0                    246.0            145.0   17.0   \n",
       "\n",
       "     responseError  Stim_diff  Stim_Loc_diff  bootstrap_values  Running_Mean  \\\n",
       "0        -3.000000       31.0         -105.0          2.175724     -0.443572   \n",
       "1         3.997763      -27.0         -178.0          3.836778     -0.151244   \n",
       "2       -20.000000      -68.0         -155.0          2.689834     -0.151244   \n",
       "3       -16.000000       26.0           55.0          3.910172     -0.060910   \n",
       "4         1.999554       55.0           64.0          0.716972     -0.083347   \n",
       "..             ...        ...            ...               ...           ...   \n",
       "244      -2.502850       66.0          -95.0               NaN           NaN   \n",
       "245     -20.000446       64.0           93.0               NaN           NaN   \n",
       "246       8.003690       57.0          166.0               NaN           NaN   \n",
       "247      -3.999999      -63.0         -129.0               NaN           NaN   \n",
       "248      16.998098      -60.0           -9.0               NaN           NaN   \n",
       "\n",
       "       slopes  intercepts          DoVM SD_CONDITION  \n",
       "0    0.164390    0.251218 -3.801264e-19        NO_SD  \n",
       "1    0.256575    1.705796 -1.340351e-04        NO_SD  \n",
       "2    0.303582   -0.711443 -2.708124e-04           SD  \n",
       "3    0.356560   -0.611051 -4.131581e-04        NO_SD  \n",
       "4    0.080926    0.218555 -5.640693e-04           SD  \n",
       "..        ...         ...           ...          ...  \n",
       "244       NaN         NaN           NaN        NO_SD  \n",
       "245       NaN         NaN           NaN        NO_SD  \n",
       "246       NaN         NaN           NaN           SD  \n",
       "247       NaN         NaN           NaN           SD  \n",
       "248       NaN         NaN           NaN        NO_SD  \n",
       "\n",
       "[249 rows x 19 columns]"
      ],
      "text/html": "<div>\n<style scoped>\n    .dataframe tbody tr th:only-of-type {\n        vertical-align: middle;\n    }\n\n    .dataframe tbody tr th {\n        vertical-align: top;\n    }\n\n    .dataframe thead th {\n        text-align: right;\n    }\n</style>\n<table border=\"1\" class=\"dataframe\">\n  <thead>\n    <tr style=\"text-align: right;\">\n      <th></th>\n      <th>stimulusID</th>\n      <th>morphID</th>\n      <th>RT</th>\n      <th>trialNumber</th>\n      <th>blockNumber</th>\n      <th>stimLocationDeg</th>\n      <th>shifted_stimulusID</th>\n      <th>shifted_stimLocationDeg</th>\n      <th>shifted_morphID</th>\n      <th>Error</th>\n      <th>responseError</th>\n      <th>Stim_diff</th>\n      <th>Stim_Loc_diff</th>\n      <th>bootstrap_values</th>\n      <th>Running_Mean</th>\n      <th>slopes</th>\n      <th>intercepts</th>\n      <th>DoVM</th>\n      <th>SD_CONDITION</th>\n    </tr>\n  </thead>\n  <tbody>\n    <tr>\n      <th>0</th>\n      <td>81.0</td>\n      <td>86.0</td>\n      <td>1.214150</td>\n      <td>1.0</td>\n      <td>1.0</td>\n      <td>142.0</td>\n      <td>50.0</td>\n      <td>247.0</td>\n      <td>47.0</td>\n      <td>-3.0</td>\n      <td>-3.000000</td>\n      <td>31.0</td>\n      <td>-105.0</td>\n      <td>2.175724</td>\n      <td>-0.443572</td>\n      <td>0.164390</td>\n      <td>0.251218</td>\n      <td>-3.801264e-19</td>\n      <td>NO_SD</td>\n    </tr>\n    <tr>\n      <th>1</th>\n      <td>50.0</td>\n      <td>47.0</td>\n      <td>2.031325</td>\n      <td>2.0</td>\n      <td>1.0</td>\n      <td>247.0</td>\n      <td>77.0</td>\n      <td>65.0</td>\n      <td>81.0</td>\n      <td>4.0</td>\n      <td>3.997763</td>\n      <td>-27.0</td>\n      <td>-178.0</td>\n      <td>3.836778</td>\n      <td>-0.151244</td>\n      <td>0.256575</td>\n      <td>1.705796</td>\n      <td>-1.340351e-04</td>\n      <td>NO_SD</td>\n    </tr>\n    <tr>\n      <th>2</th>\n      <td>77.0</td>\n      <td>81.0</td>\n      <td>2.982389</td>\n      <td>3.0</td>\n      <td>1.0</td>\n      <td>65.0</td>\n      <td>145.0</td>\n      <td>220.0</td>\n      <td>125.0</td>\n      <td>-20.0</td>\n      <td>-20.000000</td>\n      <td>-68.0</td>\n      <td>-155.0</td>\n      <td>2.689834</td>\n      <td>-0.151244</td>\n      <td>0.303582</td>\n      <td>-0.711443</td>\n      <td>-2.708124e-04</td>\n      <td>SD</td>\n    </tr>\n    <tr>\n      <th>3</th>\n      <td>145.0</td>\n      <td>125.0</td>\n      <td>2.935164</td>\n      <td>4.0</td>\n      <td>1.0</td>\n      <td>220.0</td>\n      <td>119.0</td>\n      <td>165.0</td>\n      <td>103.0</td>\n      <td>-16.0</td>\n      <td>-16.000000</td>\n      <td>26.0</td>\n      <td>55.0</td>\n      <td>3.910172</td>\n      <td>-0.060910</td>\n      <td>0.356560</td>\n      <td>-0.611051</td>\n      <td>-4.131581e-04</td>\n      <td>NO_SD</td>\n    </tr>\n    <tr>\n      <th>4</th>\n      <td>119.0</td>\n      <td>103.0</td>\n      <td>2.170834</td>\n      <td>5.0</td>\n      <td>1.0</td>\n      <td>165.0</td>\n      <td>64.0</td>\n      <td>101.0</td>\n      <td>66.0</td>\n      <td>2.0</td>\n      <td>1.999554</td>\n      <td>55.0</td>\n      <td>64.0</td>\n      <td>0.716972</td>\n      <td>-0.083347</td>\n      <td>0.080926</td>\n      <td>0.218555</td>\n      <td>-5.640693e-04</td>\n      <td>SD</td>\n    </tr>\n    <tr>\n      <th>...</th>\n      <td>...</td>\n      <td>...</td>\n      <td>...</td>\n      <td>...</td>\n      <td>...</td>\n      <td>...</td>\n      <td>...</td>\n      <td>...</td>\n      <td>...</td>\n      <td>...</td>\n      <td>...</td>\n      <td>...</td>\n      <td>...</td>\n      <td>...</td>\n      <td>...</td>\n      <td>...</td>\n      <td>...</td>\n      <td>...</td>\n      <td>...</td>\n    </tr>\n    <tr>\n      <th>244</th>\n      <td>46.0</td>\n      <td>51.0</td>\n      <td>4.196066</td>\n      <td>80.0</td>\n      <td>3.0</td>\n      <td>272.0</td>\n      <td>126.0</td>\n      <td>7.0</td>\n      <td>120.0</td>\n      <td>-6.0</td>\n      <td>-2.502850</td>\n      <td>66.0</td>\n      <td>-95.0</td>\n      <td>NaN</td>\n      <td>NaN</td>\n      <td>NaN</td>\n      <td>NaN</td>\n      <td>NaN</td>\n      <td>NO_SD</td>\n    </tr>\n    <tr>\n      <th>245</th>\n      <td>126.0</td>\n      <td>120.0</td>\n      <td>7.843110</td>\n      <td>81.0</td>\n      <td>3.0</td>\n      <td>7.0</td>\n      <td>62.0</td>\n      <td>274.0</td>\n      <td>42.0</td>\n      <td>-20.0</td>\n      <td>-20.000446</td>\n      <td>64.0</td>\n      <td>93.0</td>\n      <td>NaN</td>\n      <td>NaN</td>\n      <td>NaN</td>\n      <td>NaN</td>\n      <td>NaN</td>\n      <td>NO_SD</td>\n    </tr>\n    <tr>\n      <th>246</th>\n      <td>62.0</td>\n      <td>42.0</td>\n      <td>2.058722</td>\n      <td>82.0</td>\n      <td>3.0</td>\n      <td>274.0</td>\n      <td>5.0</td>\n      <td>108.0</td>\n      <td>13.0</td>\n      <td>8.0</td>\n      <td>8.003690</td>\n      <td>57.0</td>\n      <td>166.0</td>\n      <td>NaN</td>\n      <td>NaN</td>\n      <td>NaN</td>\n      <td>NaN</td>\n      <td>NaN</td>\n      <td>SD</td>\n    </tr>\n    <tr>\n      <th>247</th>\n      <td>5.0</td>\n      <td>13.0</td>\n      <td>3.374745</td>\n      <td>83.0</td>\n      <td>3.0</td>\n      <td>108.0</td>\n      <td>68.0</td>\n      <td>237.0</td>\n      <td>64.0</td>\n      <td>-4.0</td>\n      <td>-3.999999</td>\n      <td>-63.0</td>\n      <td>-129.0</td>\n      <td>NaN</td>\n      <td>NaN</td>\n      <td>NaN</td>\n      <td>NaN</td>\n      <td>NaN</td>\n      <td>SD</td>\n    </tr>\n    <tr>\n      <th>248</th>\n      <td>68.0</td>\n      <td>64.0</td>\n      <td>1.506258</td>\n      <td>84.0</td>\n      <td>3.0</td>\n      <td>237.0</td>\n      <td>128.0</td>\n      <td>246.0</td>\n      <td>145.0</td>\n      <td>17.0</td>\n      <td>16.998098</td>\n      <td>-60.0</td>\n      <td>-9.0</td>\n      <td>NaN</td>\n      <td>NaN</td>\n      <td>NaN</td>\n      <td>NaN</td>\n      <td>NaN</td>\n      <td>NO_SD</td>\n    </tr>\n  </tbody>\n</table>\n<p>249 rows × 19 columns</p>\n</div>"
     },
     "metadata": {},
     "execution_count": 39
    }
   ],
   "source": [
    "SDlabel_trials1(TCBbehavioral)"
   ]
  },
  {
   "cell_type": "code",
   "execution_count": 40,
   "metadata": {},
   "outputs": [],
   "source": [
    "#cropping out subset that have blobs\n",
    "timestampframe = pd.read_csv(\"/Users/selena_zhang/Desktop/000/preprocessed/pl_timestamps.csv\", header=None)\n",
    "messages = pd.read_csv(\"/Users/selena_zhang/Desktop/000/preprocessed/pl_msgs.csv\")"
   ]
  },
  {
   "cell_type": "code",
   "execution_count": 41,
   "metadata": {},
   "outputs": [
    {
     "output_type": "execute_result",
     "data": {
      "text/plain": [
       "                  0\n",
       "0      0.000000e+00\n",
       "1      1.591225e+09\n",
       "2      1.591225e+09\n",
       "3      1.591225e+09\n",
       "4      1.591225e+09\n",
       "...             ...\n",
       "51626  1.591228e+09\n",
       "51627  1.591228e+09\n",
       "51628  1.591228e+09\n",
       "51629  1.591228e+09\n",
       "51630  1.591228e+09\n",
       "\n",
       "[51631 rows x 1 columns]"
      ],
      "text/html": "<div>\n<style scoped>\n    .dataframe tbody tr th:only-of-type {\n        vertical-align: middle;\n    }\n\n    .dataframe tbody tr th {\n        vertical-align: top;\n    }\n\n    .dataframe thead th {\n        text-align: right;\n    }\n</style>\n<table border=\"1\" class=\"dataframe\">\n  <thead>\n    <tr style=\"text-align: right;\">\n      <th></th>\n      <th>0</th>\n    </tr>\n  </thead>\n  <tbody>\n    <tr>\n      <th>0</th>\n      <td>0.000000e+00</td>\n    </tr>\n    <tr>\n      <th>1</th>\n      <td>1.591225e+09</td>\n    </tr>\n    <tr>\n      <th>2</th>\n      <td>1.591225e+09</td>\n    </tr>\n    <tr>\n      <th>3</th>\n      <td>1.591225e+09</td>\n    </tr>\n    <tr>\n      <th>4</th>\n      <td>1.591225e+09</td>\n    </tr>\n    <tr>\n      <th>...</th>\n      <td>...</td>\n    </tr>\n    <tr>\n      <th>51626</th>\n      <td>1.591228e+09</td>\n    </tr>\n    <tr>\n      <th>51627</th>\n      <td>1.591228e+09</td>\n    </tr>\n    <tr>\n      <th>51628</th>\n      <td>1.591228e+09</td>\n    </tr>\n    <tr>\n      <th>51629</th>\n      <td>1.591228e+09</td>\n    </tr>\n    <tr>\n      <th>51630</th>\n      <td>1.591228e+09</td>\n    </tr>\n  </tbody>\n</table>\n<p>51631 rows × 1 columns</p>\n</div>"
     },
     "metadata": {},
     "execution_count": 41
    }
   ],
   "source": [
    "timestampframe"
   ]
  },
  {
   "cell_type": "code",
   "execution_count": 42,
   "metadata": {},
   "outputs": [],
   "source": [
    "#timestamps of first trial blob\n",
    "trial = 1\n",
    "block = 1\n",
    "begintask = \"Image onset\"\n",
    "endtask = \"Adjust task\"\n",
    "msg_idx = messages[(messages['task'] == begintask) & (messages['trial'] == trial) & (messages['block'] == block)].index.values\n",
    "begin_ts = messages.loc[msg_idx[0], \"timestamp\"]\n",
    "msg_end_idx = messages[(messages['task'] == endtask) & (messages['trial'] == trial) & (messages['block'] == block)].index.values\n",
    "end_ts = messages.loc[msg_end_idx[0], 'timestamp']\n",
    "#correct the lag\n",
    "if avg > 0:\n",
    "    begin_ts_lag = begin_ts - avg\n",
    "    end_ts_lag = end_ts - avg\n",
    "elif avg < 0:\n",
    "    begin_ts_lag = begin_ts + avg\n",
    "    end_ts_lag = end_ts + avg"
   ]
  },
  {
   "cell_type": "code",
   "execution_count": 43,
   "metadata": {},
   "outputs": [],
   "source": [
    "def nearest_ts(time, ts_frame, task):\n",
    "    #time = corrected time after delay, ts_frame=DF with timestamps, task = 'begin' or 'end'\n",
    "    timediff = []\n",
    "    for idx, ts in ts_frame.iloc[:, 0].items():\n",
    "        diff = ts-time\n",
    "        if diff < 0: \n",
    "            timediff.append(diff)\n",
    "        elif diff > 0:\n",
    "            if task=='begin':\n",
    "                best_ts = timediff[-1]\n",
    "                best_frame = idx + 1\n",
    "            elif task=='end':\n",
    "                best_ts = ts\n",
    "                best_frame = idx + 2\n",
    "            break\n",
    "        else: \n",
    "            best_frame = idx + 1\n",
    "            break\n",
    "    return best_frame\n"
   ]
  },
  {
   "cell_type": "code",
   "execution_count": 44,
   "metadata": {
    "tags": []
   },
   "outputs": [],
   "source": [
    "#best frame number\n",
    "begin_frame = nearest_ts(begin_ts_lag, timestampframe, 'begin')\n",
    "end_frame = nearest_ts(end_ts_lag, timestampframe, 'end')"
   ]
  },
  {
   "cell_type": "code",
   "execution_count": 45,
   "metadata": {},
   "outputs": [
    {
     "output_type": "stream",
     "name": "stdout",
     "text": [
      "Directory already exists /Users/selena_zhang/Desktop/000/trial1frames \n"
     ]
    }
   ],
   "source": [
    "#subset out frames from one trial\n",
    "\n",
    "if platform.system() == 'Darwin':\n",
    "    EM_path = '/Users/selena_zhang/Desktop/000/'    \n",
    "elif platform.system() == 'Linux':\n",
    "    EM_path = '/media/whitney/New Volume/Teresa/SD_grant_EM/TCB_GOOD/000/'\n",
    "\n",
    "subset_path = EM_path + 'trial1frames'\n",
    "frames_path = EM_path + 'frames'\n",
    "\n",
    "try:\n",
    "    if not os.path.exists(subset_path):\n",
    "        os.mkdir(subset_path)\n",
    "        print(\"Successfully created the directory %s \" % subset_path)\n",
    "    else:\n",
    "        print(\"Directory already exists %s \" % subset_path)\n",
    "except OSError:\n",
    "    print(\"Creation of the directory %s failed\" % subset_path)"
   ]
  },
  {
   "cell_type": "code",
   "execution_count": 46,
   "metadata": {},
   "outputs": [],
   "source": [
    "#copy files into trial1frames from frames (full)\n",
    "for i in range(begin_frame, end_frame + 1):\n",
    "    if os.path.isfile(subset_path + str(i) + \".png\"):\n",
    "        pass\n",
    "    else:\n",
    "        copyfile(frames_path + \"/frame\" + str(i) + \".png\", subset_path + \"/frame\" + str(i) + \".png\")"
   ]
  },
  {
   "cell_type": "code",
   "execution_count": 47,
   "metadata": {},
   "outputs": [],
   "source": [
    "correct_tags = [0, 1, 2, 3, 5, 6, 7, 8, 9, 11]"
   ]
  },
  {
   "cell_type": "code",
   "execution_count": 64,
   "metadata": {},
   "outputs": [
    {
     "output_type": "stream",
     "name": "stdout",
     "text": [
      "Progress: |██████████████████████████████████████████████████| 100.0% Complete\n",
      "Progress: |██████████████████████████████████████████████████| 100.0% Complete\n",
      "Progress: |██████████████████████████████████████████████████| 100.0% Complete\n",
      "Progress: |██████████████████████████████████████████████████| 100.0% Complete\n",
      "Progress: |██████████████████████████████████████████████████| 100.0% Complete\n",
      "Progress: |██████████████████████████████████████████████████| 100.0% Complete\n",
      "Progress: |██████████████████████████████████████████████████| 100.0% Complete\n",
      "Progress: |██████████████████████████████████████████████████| 100.0% Complete\n",
      "Progress: |██████████████████████████████████████████████████| 100.0% Complete\n",
      "Progress: |██████████████████████████████████████████████████| 100.0% Complete\n",
      "Progress: |██████████████████████████████████████████████████| 100.0% Complete\n",
      "Progress: |██████████████████████████████████████████████████| 100.0% Complete\n",
      "Progress: |██████████████████████████████████████████████████| 100.0% Complete\n",
      "Progress: |██████████████████████████████████████████████████| 100.0% Complete\n",
      "Progress: |██████████████████████████████████████████████████| 100.0% Complete\n",
      "Progress: |██████████████████████████████████████████████████| 100.0% Complete\n",
      "Progress: |██████████████████████████████████████████████████| 100.0% Complete\n",
      "Progress: |██████████████████████████████████████████████████| 100.0% Complete\n",
      "Progress: |██████████████████████████████████████████████████| 100.0% Complete\n",
      "Progress: |██████████████████████████████████████████████████| 100.0% Complete\n",
      "Progress: |██████████████████████████████████████████████████| 100.0% Complete\n",
      "Progress: |██████████████████████████████████████████████████| 100.0% Complete\n",
      "Progress: |██████████████████████████████████████████████████| 100.0% Complete\n",
      "Progress: |██████████████████████████████████████████████████| 100.0% Complete\n",
      "Progress: |██████████████████████████████████████████████████| 100.0% Complete\n",
      "Progress: |██████████████████████████████████████████████████| 100.0% Complete\n",
      "Progress: |██████████████████████████████████████████████████| 100.0% Complete\n",
      "Progress: |██████████████████████████████████████████████████| 100.0% Complete\n",
      "Progress: |██████████████████████████████████████████████████| 100.0% Complete\n",
      "Progress: |██████████████████████████████████████████████████| 100.0% Complete\n",
      "Progress: |██████████████████████████████████████████████████| 100.0% Complete\n",
      "Progress: |██████████████████████████████████████████████████| 100.0% Complete\n",
      "Progress: |██████████████████████████████████████████████████| 100.0% Complete\n",
      "Progress: |██████████████████████████████████████████████████| 100.0% Complete\n",
      "Progress: |██████████████████████████████████████████████████| 100.0% Complete\n",
      "Progress: |██████████████████████████████████████████████████| 100.0% Complete\n",
      "Progress: |██████████████████████████████████████████████████| 100.0% Complete\n",
      "Progress: |██████████████████████████████████████████████████| 100.0% Complete\n",
      "Progress: |██████████████████████████████████████████████████| 100.0% Complete\n",
      "Progress: |██████████████████████████████████████████████████| 100.0% Complete\n",
      "Progress: |██████████████████████████████████████████████████| 100.0% Complete\n",
      "Progress: |██████████████████████████████████████████████████| 100.0% Complete\n",
      "Progress: |██████████████████████████████████████████████████| 100.0% Complete\n",
      "Progress: |██████████████████████████████████████████████████| 100.0% Complete\n",
      "Progress: |██████████████████████████████████████████████████| 100.0% Complete\n",
      "Progress: |██████████████████████████████████████████████████| 100.0% Complete\n",
      "Progress: |██████████████████████████████████████████████████| 100.0% Complete\n",
      "Progress: |██████████████████████████████████████████████████| 100.0% Complete\n",
      "Progress: |██████████████████████████████████████████████████| 100.0% Complete\n",
      "Progress: |██████████████████████████████████████████████████| 100.0% Complete\n",
      "Progress: |██████████████████████████████████████████████████| 100.0% Complete\n",
      "Progress: |██████████████████████████████████████████████████| 100.0% Complete\n",
      "Progress: |██████████████████████████████████████████████████| 100.0% Complete\n",
      "Progress: |██████████████████████████████████████████████████| 100.0% Complete\n",
      "Progress: |██████████████████████████████████████████████████| 100.0% Complete\n",
      "Progress: |██████████████████████████████████████████████████| 100.0% Complete\n",
      "Progress: |██████████████████████████████████████████████████| 100.0% Complete\n",
      "Progress: |██████████████████████████████████████████████████| 100.0% Complete\n",
      "Progress: |██████████████████████████████████████████████████| 100.0% Complete\n",
      "Progress: |██████████████████████████████████████████████████| 100.0% Complete\n",
      "Progress: |██████████████████████████████████████████████████| 100.0% Complete\n",
      "Progress: |██████████████████████████████████████████████████| 100.0% Complete\n",
      "Progress: |██████████████████████████████████████████████████| 100.0% Complete\n",
      "Progress: |██████████████████████████████████████████████████| 100.0% Complete\n",
      "Progress: |██████████████████████████████████████████████████| 100.0% Complete\n",
      "Progress: |██████████████████████████████████████████████████| 100.0% Complete\n",
      "Progress: |██████████████████████████████████████████████████| 100.0% Complete\n"
     ]
    }
   ],
   "source": [
    "#make new df\n",
    "blob_coords = pd.DataFrame(columns=[\"trial\", \"frame\", \"timestamp\", \"topleft\", \"topright\", \"bottomleft\", \"bottomright\", \"center\"])\n",
    "#run find_blob on frames in subset\n",
    "def blob_finder(bframe, eframe, trial, block):\n",
    "    degree = TCBbehavioral[(TCBbehavioral[\"trialNumber\"] == trial) & (TCBbehavioral['blockNumber'] == block)].index.values[0]\n",
    "    for i in range(bframe, eframe + 1): \n",
    "        blob = find_blob(subset_path + \"/frame\" + str(i) + \".png\", correct_tags, degree)\n",
    "        tright= (blob[2][0], blob[1][1])\n",
    "        bleft = (blob[1][0], blob[2][1])\n",
    "        values = [trial, i, timestampframe.iloc[i+1, 0], blob[1], tright, bleft, blob[2], blob[0]]\n",
    "        blob_coords.loc[len(blob_coords), :] = values\n",
    "blob_finder(begin_frame, end_frame, 1, 1)"
   ]
  },
  {
   "cell_type": "code",
   "execution_count": 65,
   "metadata": {},
   "outputs": [
    {
     "output_type": "execute_result",
     "data": {
      "text/plain": [
       "   trial frame    timestamp     topleft    topright  bottomleft bottomright  \\\n",
       "0      1  4016  1.59123e+09  (616, 235)  (696, 235)  (616, 315)  (696, 315)   \n",
       "1      1  4017  1.59123e+09  (617, 233)  (697, 233)  (617, 313)  (697, 313)   \n",
       "2      1  4018  1.59123e+09  (617, 233)  (697, 233)  (617, 313)  (697, 313)   \n",
       "3      1  4019  1.59123e+09  (617, 233)  (697, 233)  (617, 313)  (697, 313)   \n",
       "4      1  4020  1.59123e+09  (617, 233)  (697, 233)  (617, 313)  (697, 313)   \n",
       "..   ...   ...          ...         ...         ...         ...         ...   \n",
       "62     1  4078  1.59123e+09  (614, 240)  (694, 240)  (614, 320)  (694, 320)   \n",
       "63     1  4079  1.59123e+09  (614, 241)  (694, 241)  (614, 321)  (694, 321)   \n",
       "64     1  4080  1.59123e+09  (615, 241)  (695, 241)  (615, 321)  (695, 321)   \n",
       "65     1  4081  1.59123e+09  (615, 241)  (695, 241)  (615, 321)  (695, 321)   \n",
       "66     1  4082  1.59123e+09  (616, 242)  (696, 242)  (616, 322)  (696, 322)   \n",
       "\n",
       "            center  \n",
       "0   (656.0, 275.0)  \n",
       "1   (657.0, 273.0)  \n",
       "2   (657.0, 273.0)  \n",
       "3   (657.0, 273.0)  \n",
       "4   (657.0, 273.0)  \n",
       "..             ...  \n",
       "62  (654.0, 280.0)  \n",
       "63  (654.0, 281.0)  \n",
       "64  (655.0, 281.0)  \n",
       "65  (655.0, 281.0)  \n",
       "66  (656.0, 282.0)  \n",
       "\n",
       "[67 rows x 8 columns]"
      ],
      "text/html": "<div>\n<style scoped>\n    .dataframe tbody tr th:only-of-type {\n        vertical-align: middle;\n    }\n\n    .dataframe tbody tr th {\n        vertical-align: top;\n    }\n\n    .dataframe thead th {\n        text-align: right;\n    }\n</style>\n<table border=\"1\" class=\"dataframe\">\n  <thead>\n    <tr style=\"text-align: right;\">\n      <th></th>\n      <th>trial</th>\n      <th>frame</th>\n      <th>timestamp</th>\n      <th>topleft</th>\n      <th>topright</th>\n      <th>bottomleft</th>\n      <th>bottomright</th>\n      <th>center</th>\n    </tr>\n  </thead>\n  <tbody>\n    <tr>\n      <th>0</th>\n      <td>1</td>\n      <td>4016</td>\n      <td>1.59123e+09</td>\n      <td>(616, 235)</td>\n      <td>(696, 235)</td>\n      <td>(616, 315)</td>\n      <td>(696, 315)</td>\n      <td>(656.0, 275.0)</td>\n    </tr>\n    <tr>\n      <th>1</th>\n      <td>1</td>\n      <td>4017</td>\n      <td>1.59123e+09</td>\n      <td>(617, 233)</td>\n      <td>(697, 233)</td>\n      <td>(617, 313)</td>\n      <td>(697, 313)</td>\n      <td>(657.0, 273.0)</td>\n    </tr>\n    <tr>\n      <th>2</th>\n      <td>1</td>\n      <td>4018</td>\n      <td>1.59123e+09</td>\n      <td>(617, 233)</td>\n      <td>(697, 233)</td>\n      <td>(617, 313)</td>\n      <td>(697, 313)</td>\n      <td>(657.0, 273.0)</td>\n    </tr>\n    <tr>\n      <th>3</th>\n      <td>1</td>\n      <td>4019</td>\n      <td>1.59123e+09</td>\n      <td>(617, 233)</td>\n      <td>(697, 233)</td>\n      <td>(617, 313)</td>\n      <td>(697, 313)</td>\n      <td>(657.0, 273.0)</td>\n    </tr>\n    <tr>\n      <th>4</th>\n      <td>1</td>\n      <td>4020</td>\n      <td>1.59123e+09</td>\n      <td>(617, 233)</td>\n      <td>(697, 233)</td>\n      <td>(617, 313)</td>\n      <td>(697, 313)</td>\n      <td>(657.0, 273.0)</td>\n    </tr>\n    <tr>\n      <th>...</th>\n      <td>...</td>\n      <td>...</td>\n      <td>...</td>\n      <td>...</td>\n      <td>...</td>\n      <td>...</td>\n      <td>...</td>\n      <td>...</td>\n    </tr>\n    <tr>\n      <th>62</th>\n      <td>1</td>\n      <td>4078</td>\n      <td>1.59123e+09</td>\n      <td>(614, 240)</td>\n      <td>(694, 240)</td>\n      <td>(614, 320)</td>\n      <td>(694, 320)</td>\n      <td>(654.0, 280.0)</td>\n    </tr>\n    <tr>\n      <th>63</th>\n      <td>1</td>\n      <td>4079</td>\n      <td>1.59123e+09</td>\n      <td>(614, 241)</td>\n      <td>(694, 241)</td>\n      <td>(614, 321)</td>\n      <td>(694, 321)</td>\n      <td>(654.0, 281.0)</td>\n    </tr>\n    <tr>\n      <th>64</th>\n      <td>1</td>\n      <td>4080</td>\n      <td>1.59123e+09</td>\n      <td>(615, 241)</td>\n      <td>(695, 241)</td>\n      <td>(615, 321)</td>\n      <td>(695, 321)</td>\n      <td>(655.0, 281.0)</td>\n    </tr>\n    <tr>\n      <th>65</th>\n      <td>1</td>\n      <td>4081</td>\n      <td>1.59123e+09</td>\n      <td>(615, 241)</td>\n      <td>(695, 241)</td>\n      <td>(615, 321)</td>\n      <td>(695, 321)</td>\n      <td>(655.0, 281.0)</td>\n    </tr>\n    <tr>\n      <th>66</th>\n      <td>1</td>\n      <td>4082</td>\n      <td>1.59123e+09</td>\n      <td>(616, 242)</td>\n      <td>(696, 242)</td>\n      <td>(616, 322)</td>\n      <td>(696, 322)</td>\n      <td>(656.0, 282.0)</td>\n    </tr>\n  </tbody>\n</table>\n<p>67 rows × 8 columns</p>\n</div>"
     },
     "metadata": {},
     "execution_count": 65
    }
   ],
   "source": [
    "blob_coords"
   ]
  },
  {
   "cell_type": "code",
   "execution_count": null,
   "metadata": {},
   "outputs": [],
   "source": []
  }
 ],
 "metadata": {
  "kernelspec": {
   "display_name": "Python 3",
   "language": "python",
   "name": "python3"
  },
  "language_info": {
   "codemirror_mode": {
    "name": "ipython",
    "version": 3
   },
   "file_extension": ".py",
   "mimetype": "text/x-python",
   "name": "python",
   "nbconvert_exporter": "python",
   "pygments_lexer": "ipython3",
   "version": "3.7.1-final"
  }
 },
 "nbformat": 4,
 "nbformat_minor": 4
}