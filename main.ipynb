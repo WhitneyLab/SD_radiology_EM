{
 "cells": [
  {
   "cell_type": "markdown",
   "metadata": {},
   "source": [
    "# Initialize"
   ]
  },
  {
   "cell_type": "code",
   "execution_count": null,
   "metadata": {
    "ExecuteTime": {
     "end_time": "2020-04-20T01:49:25.024932Z",
     "start_time": "2020-04-20T01:49:24.095872Z"
    }
   },
   "outputs": [],
   "source": [
    "from pupil_apriltags import Detector, Detection\n",
    "from collections import defaultdict\n",
    "from typing import List, Dict, Tuple, Any\n",
    "from glob import glob\n",
    "import numpy as np\n",
    "import os\n",
    "import time\n",
    "import sys\n",
    "import cv2\n",
    "from math import atan2, degrees\n",
    "import platform\n",
    "import socket\n",
    "import matplotlib.pyplot as plt\n",
    "import math\n",
    "from statsFuncs import trigonometry as trig\n",
    "from statsFuncs import numbers\n",
    "import pandas as pd\n",
    "import utils\n",
    "import multiprocessing\n",
    "from joblib import Parallel, delayed\n",
    "from numpy import save\n",
    "import pupil_functions\n",
    "import decimal\n",
    "import pickle\n",
    "from find_blob import find_blob\n",
    "\n",
    "%load_ext autoreload\n",
    "%autoreload 2"
   ]
  },
  {
   "cell_type": "markdown",
   "metadata": {},
   "source": [
    "# load data "
   ]
  },
  {
   "cell_type": "code",
   "execution_count": null,
   "metadata": {
    "ExecuteTime": {
     "end_time": "2020-04-20T01:49:25.405255Z",
     "start_time": "2020-04-20T01:49:25.376258Z"
    }
   },
   "outputs": [],
   "source": [
    "datapath = os.getcwd() + '/data/'\n",
    "\n",
    "if platform.system() == 'Darwin':\n",
    "    EM_path = '/Users/teresa/Dropbox/Naive_Spring_Eye_Recordings_TCB/Subject_CG/003/'    \n",
    "elif platform.system() == 'Linux':\n",
    "    EM_path = '/home/teresa/Documents/Naive_Spring_Eye_Recordings/Subject_CG/003/'"
   ]
  },
  {
   "cell_type": "code",
   "execution_count": null,
   "metadata": {
    "ExecuteTime": {
     "end_time": "2020-04-20T01:49:26.136919Z",
     "start_time": "2020-04-20T01:49:26.097100Z"
    }
   },
   "outputs": [],
   "source": [
    "behavioral_data = pd.read_csv(datapath + 'CG_behavioral_results.csv')\n",
    "\n",
    "# cut file just to have the 255 rows of data\n",
    "behavioral_data = behavioral_data.iloc[range(255)]\n",
    "\n",
    "# annotation_data = pd.read_csv(datapath + 'pl_msgs.csv')\n",
    "timestamp_path = EM_path + 'world_timestamps.npy'"
   ]
  },
  {
   "cell_type": "markdown",
   "metadata": {},
   "source": [
    "# Set up parallel computing "
   ]
  },
  {
   "cell_type": "code",
   "execution_count": null,
   "metadata": {
    "ExecuteTime": {
     "end_time": "2020-04-20T01:49:28.827228Z",
     "start_time": "2020-04-20T01:49:28.796642Z"
    }
   },
   "outputs": [],
   "source": [
    "num_cores = multiprocessing.cpu_count()"
   ]
  },
  {
   "cell_type": "markdown",
   "metadata": {},
   "source": [
    "# Extract frames "
   ]
  },
  {
   "cell_type": "markdown",
   "metadata": {},
   "source": []
  },
  {
   "cell_type": "markdown",
   "metadata": {},
   "source": [
    "Create frame path using OS package\n",
    "Define the name of the directory to be created"
   ]
  },
  {
   "cell_type": "code",
   "execution_count": null,
   "metadata": {
    "ExecuteTime": {
     "end_time": "2020-04-20T01:49:32.047431Z",
     "start_time": "2020-04-20T01:49:32.014376Z"
    },
    "scrolled": true
   },
   "outputs": [],
   "source": [
    "video_path = EM_path + 'world.mp4'\n",
    "frames_path = EM_path + 'frames'\n",
    "\n",
    "try:\n",
    "    if not os.path.exists(frames_path):\n",
    "        os.mkdir(frames_path)\n",
    "        print(\"Successfully created the directory %s \" % frames_path)\n",
    "    else:\n",
    "        print(\"Directory already exists %s \" % frames_path)\n",
    "except OSError:\n",
    "    print(\"Creation of the directory %s failed\" % frames_path)\n"
   ]
  },
  {
   "cell_type": "markdown",
   "metadata": {},
   "source": [
    "How many frames does the video have?"
   ]
  },
  {
   "cell_type": "code",
   "execution_count": null,
   "metadata": {
    "ExecuteTime": {
     "end_time": "2020-04-20T01:49:32.995986Z",
     "start_time": "2020-04-20T01:49:32.959079Z"
    }
   },
   "outputs": [],
   "source": [
    "cap = cv2.VideoCapture(video_path)\n",
    "total_frames = int(cap.get(cv2.CAP_PROP_FRAME_COUNT))\n",
    "print(total_frames)"
   ]
  },
  {
   "cell_type": "markdown",
   "metadata": {},
   "source": [
    "No need to do the extract frames if they have been extracted before."
   ]
  },
  {
   "cell_type": "code",
   "execution_count": null,
   "metadata": {
    "ExecuteTime": {
     "end_time": "2020-04-20T01:49:35.106896Z",
     "start_time": "2020-04-20T01:49:34.961711Z"
    }
   },
   "outputs": [],
   "source": [
    "if not len(os.listdir(frames_path)) == total_frames:\n",
    "    utils.extract_frames(video_path, frames_path, total_frames)\n",
    "else:\n",
    "    print('Frames previously extracted, moving forward')\n",
    "\n"
   ]
  },
  {
   "cell_type": "code",
   "execution_count": null,
   "metadata": {
    "ExecuteTime": {
     "end_time": "2020-04-20T01:46:11.586013Z",
     "start_time": "2020-04-20T01:46:11.538312Z"
    }
   },
   "outputs": [],
   "source": [
    "#------- fixing np load issue ------\n",
    "# save np.load\n",
    "np_load_old = np.load\n",
    "\n",
    "# modify the default parameters of np.load\n",
    "np.load = lambda *a,**k: np_load_old(*a, allow_pickle=True, **k)\n",
    "\n",
    "#------- finished np load issue ------\n",
    "\n",
    "frames_file = datapath + 'frames.npy'\n",
    "tags_file = datapath + 'tag_ids.npy'\n",
    "\n",
    "frames_txt = datapath + \"frames.txt\"\n",
    "tagids_txt = datapath + \"tagids.txt\"\n",
    "\n",
    "if not os.path.exists(datapath + 'frames.npy'):\n",
    "    print('Detecting tags, it will take some time...')\n",
    "    frames, tag_ids = utils.detect_tags(frames_path, progress_bar=True)\n",
    "    print('Done! Saving results...')\n",
    "    save(frames_file, frames)\n",
    "    save(tags_file, tag_ids)\n",
    "    with open(frames_txt, \"wb\") as fp:   #Pickling\n",
    "        pickle.dump(frames, fp)\n",
    "    with open(tagids_txt, \"wb\") as fp:   #Pickling\n",
    "        pickle.dump(tag_ids, fp)\n",
    "    print('Done!') \n",
    "else:\n",
    "    print('Tags per frame were already extracted, loading the files....')\n",
    "    frames = np.load(frames_file)\n",
    "    tag_ids = np.load(tags_file)\n",
    "#     with open(\"frames.txt\", \"rb\") as fp:   # Unpickling\n",
    "#         frames_copy = pickle.load(fp)\n",
    "    with open(tagids_txt, \"rb\") as fp:   # Unpickling\n",
    "        tagids_copy = pickle.load(fp)\n",
    "    print('Frames and tag IDs were loaded')\n",
    "\n",
    "#------restore np load ------\n",
    "# restore np.load for future normal usage\n",
    "np.load = np_load_old"
   ]
  },
  {
   "cell_type": "code",
   "execution_count": null,
   "metadata": {
    "ExecuteTime": {
     "end_time": "2020-04-20T01:49:13.472633Z",
     "start_time": "2020-04-20T01:49:01.623Z"
    }
   },
   "outputs": [],
   "source": [
    "# Descriptive print statements\n",
    "# tag_count = sum(count for count in tagids_copy.values())\n",
    "# print(f'Detected {tag_count} tags in {len(frames_copy)} frames.')\n",
    "# print(f'Found IDs of {list(tagids_copy.keys())}.')"
   ]
  },
  {
   "cell_type": "code",
   "execution_count": null,
   "metadata": {
    "ExecuteTime": {
     "end_time": "2020-04-20T01:49:39.583943Z",
     "start_time": "2020-04-20T01:49:39.552179Z"
    }
   },
   "outputs": [],
   "source": [
    "correct_tags = [0, 1, 2, 3, 5, 6, 7, 8, 9, 11]"
   ]
  },
  {
   "cell_type": "markdown",
   "metadata": {},
   "source": [
    "Check in how many of the frames it didn't find 10 tags"
   ]
  },
  {
   "cell_type": "markdown",
   "metadata": {},
   "source": [
    "# Annotations "
   ]
  },
  {
   "cell_type": "code",
   "execution_count": null,
   "metadata": {
    "ExecuteTime": {
     "end_time": "2020-04-20T01:49:51.832030Z",
     "start_time": "2020-04-20T01:49:46.279638Z"
    }
   },
   "outputs": [],
   "source": [
    "annotation_data = pupil_functions.load_annotations(EM_path)"
   ]
  },
  {
   "cell_type": "code",
   "execution_count": null,
   "metadata": {
    "ExecuteTime": {
     "end_time": "2020-04-20T01:49:52.254340Z",
     "start_time": "2020-04-20T01:49:52.216778Z"
    }
   },
   "outputs": [],
   "source": [
    "annotation_data[[\"trial\", \"block\"]] = annotation_data[[\"trial\", \"block\"]].apply(pd.to_numeric)"
   ]
  },
  {
   "cell_type": "markdown",
   "metadata": {},
   "source": [
    "# Timestamps "
   ]
  },
  {
   "cell_type": "code",
   "execution_count": null,
   "metadata": {
    "ExecuteTime": {
     "end_time": "2020-04-20T01:49:55.288985Z",
     "start_time": "2020-04-20T01:49:55.246601Z"
    }
   },
   "outputs": [],
   "source": [
    "world_timestamps = np.load(timestamp_path)\n",
    "world_timestamps_df = pd.DataFrame(index=range(total_frames), columns=['FRAME','TIMESTAMP'])\n",
    "world_timestamps_df['TIMESTAMP'] = world_timestamps\n",
    "world_timestamps_df['FRAME'] = range(total_frames)"
   ]
  },
  {
   "cell_type": "code",
   "execution_count": null,
   "metadata": {
    "ExecuteTime": {
     "end_time": "2020-04-20T01:49:55.324484Z",
     "start_time": "2020-04-20T01:49:55.291090Z"
    }
   },
   "outputs": [],
   "source": [
    "world_timestamps_df['TIMESTAMP_ROUND'] = round(world_timestamps_df['TIMESTAMP'], 4)\n",
    "annotation_data['timestamp_round'] = round(annotation_data['timestamp'], 4)"
   ]
  },
  {
   "cell_type": "markdown",
   "metadata": {},
   "source": [
    "Note that first frame is frame 0"
   ]
  },
  {
   "cell_type": "code",
   "execution_count": null,
   "metadata": {
    "ExecuteTime": {
     "end_time": "2020-04-20T01:49:55.361335Z",
     "start_time": "2020-04-20T01:49:55.327214Z"
    }
   },
   "outputs": [],
   "source": [
    "# # Find timestamp where experiment begins:\n",
    "# exp_beging_ts = np.float64(annotation_data.loc[annotation_data['exp_event'] == 'Block 1 Begins', 'timestamp_round'])\n",
    "\n",
    "# # find frame for that timestamp\n",
    "# exp_beging_fr = world_timestamps_df.loc[world_timestamps_df['TIMESTAMP_ROUND'] == numbers.closest(world_timestamps_df['TIMESTAMP_ROUND'], exp_beging_ts), 'FRAME']"
   ]
  },
  {
   "cell_type": "code",
   "execution_count": null,
   "metadata": {
    "ExecuteTime": {
     "end_time": "2020-04-20T01:49:56.704449Z",
     "start_time": "2020-04-20T01:49:55.363614Z"
    }
   },
   "outputs": [],
   "source": [
    "for annotation_idx in range(len(annotation_data)):\n",
    "    \n",
    "    msg = annotation_data.loc[annotation_idx, 'exp_event']\n",
    "    msg_ts = annotation_data.loc[annotation_idx, 'timestamp']\n",
    "    \n",
    "    closest_ts = numbers.closest(world_timestamps_df['TIMESTAMP'], msg_ts)\n",
    "    # find frame:\n",
    "    msg_frame = int(world_timestamps_df.loc[world_timestamps_df['TIMESTAMP'] == closest_ts, 'FRAME'])\n",
    "    \n",
    "    annotation_data.loc[annotation_idx, 'frame'] = msg_frame"
   ]
  },
  {
   "cell_type": "markdown",
   "metadata": {},
   "source": [
    "## Trial 1 "
   ]
  },
  {
   "cell_type": "code",
   "execution_count": null,
   "metadata": {
    "ExecuteTime": {
     "end_time": "2020-04-20T01:49:56.991888Z",
     "start_time": "2020-04-20T01:49:56.706675Z"
    },
    "scrolled": true
   },
   "outputs": [],
   "source": [
    "image = cv2.imread(frames_path + '/frame' + str(4154) + '.png')\n",
    "plt.imshow(image)"
   ]
  },
  {
   "cell_type": "code",
   "execution_count": null,
   "metadata": {
    "ExecuteTime": {
     "end_time": "2020-04-20T01:49:57.256654Z",
     "start_time": "2020-04-20T01:49:56.993410Z"
    }
   },
   "outputs": [],
   "source": [
    "image = cv2.imread(frames_path + '/frame' + str(4155) + '.png')\n",
    "plt.imshow(image)"
   ]
  },
  {
   "cell_type": "code",
   "execution_count": null,
   "metadata": {
    "ExecuteTime": {
     "end_time": "2020-04-20T01:49:57.538492Z",
     "start_time": "2020-04-20T01:49:57.258188Z"
    }
   },
   "outputs": [],
   "source": [
    "image = cv2.imread(frames_path + '/frame' + str(4156) + '.png')\n",
    "plt.imshow(image)"
   ]
  },
  {
   "cell_type": "code",
   "execution_count": null,
   "metadata": {
    "ExecuteTime": {
     "end_time": "2020-04-20T01:49:57.836922Z",
     "start_time": "2020-04-20T01:49:57.541661Z"
    }
   },
   "outputs": [],
   "source": [
    "image = cv2.imread(frames_path + '/frame' + str(4157) + '.png')\n",
    "plt.imshow(image)"
   ]
  },
  {
   "cell_type": "code",
   "execution_count": null,
   "metadata": {
    "ExecuteTime": {
     "end_time": "2020-04-20T01:49:58.092901Z",
     "start_time": "2020-04-20T01:49:57.838995Z"
    }
   },
   "outputs": [],
   "source": [
    "image = cv2.imread(frames_path + '/frame' + str(4158) + '.png')\n",
    "plt.imshow(image)"
   ]
  },
  {
   "cell_type": "code",
   "execution_count": null,
   "metadata": {
    "ExecuteTime": {
     "end_time": "2020-04-20T01:49:58.348742Z",
     "start_time": "2020-04-20T01:49:58.094689Z"
    }
   },
   "outputs": [],
   "source": [
    "image = cv2.imread(frames_path + '/frame' + str(4159) + '.png')\n",
    "plt.imshow(image)"
   ]
  },
  {
   "cell_type": "code",
   "execution_count": null,
   "metadata": {
    "ExecuteTime": {
     "end_time": "2020-04-20T01:49:58.619542Z",
     "start_time": "2020-04-20T01:49:58.350277Z"
    }
   },
   "outputs": [],
   "source": [
    "image = cv2.imread(frames_path + '/frame' + str(4160) + '.png')\n",
    "plt.imshow(image)"
   ]
  },
  {
   "cell_type": "code",
   "execution_count": null,
   "metadata": {
    "ExecuteTime": {
     "end_time": "2020-04-20T01:49:58.881445Z",
     "start_time": "2020-04-20T01:49:58.621146Z"
    }
   },
   "outputs": [],
   "source": [
    "image = cv2.imread(frames_path + '/frame' + str(4161) + '.png')\n",
    "plt.imshow(image)"
   ]
  },
  {
   "cell_type": "markdown",
   "metadata": {},
   "source": [
    "## Trial 2 "
   ]
  },
  {
   "cell_type": "code",
   "execution_count": null,
   "metadata": {
    "ExecuteTime": {
     "end_time": "2020-04-20T01:49:59.134447Z",
     "start_time": "2020-04-20T01:49:58.882947Z"
    }
   },
   "outputs": [],
   "source": [
    "image = cv2.imread(frames_path + '/frame' + str(4212) + '.png')\n",
    "plt.imshow(image)"
   ]
  },
  {
   "cell_type": "code",
   "execution_count": null,
   "metadata": {
    "ExecuteTime": {
     "end_time": "2020-04-20T01:49:59.389688Z",
     "start_time": "2020-04-20T01:49:59.135923Z"
    }
   },
   "outputs": [],
   "source": [
    "image = cv2.imread(frames_path + '/frame' + str(4213) + '.png')\n",
    "plt.imshow(image)"
   ]
  },
  {
   "cell_type": "code",
   "execution_count": null,
   "metadata": {
    "ExecuteTime": {
     "end_time": "2020-04-20T01:49:59.651333Z",
     "start_time": "2020-04-20T01:49:59.391909Z"
    }
   },
   "outputs": [],
   "source": [
    "image = cv2.imread(frames_path + '/frame' + str(4214) + '.png')\n",
    "plt.imshow(image)"
   ]
  },
  {
   "cell_type": "code",
   "execution_count": null,
   "metadata": {
    "ExecuteTime": {
     "end_time": "2020-04-20T01:49:59.938535Z",
     "start_time": "2020-04-20T01:49:59.653139Z"
    }
   },
   "outputs": [],
   "source": [
    "image = cv2.imread(frames_path + '/frame' + str(4215) + '.png')\n",
    "plt.imshow(image)"
   ]
  },
  {
   "cell_type": "code",
   "execution_count": null,
   "metadata": {
    "ExecuteTime": {
     "end_time": "2020-04-20T01:50:00.234594Z",
     "start_time": "2020-04-20T01:49:59.940026Z"
    }
   },
   "outputs": [],
   "source": [
    "image = cv2.imread(frames_path + '/frame' + str(4216) + '.png')\n",
    "plt.imshow(image)"
   ]
  },
  {
   "cell_type": "code",
   "execution_count": null,
   "metadata": {
    "ExecuteTime": {
     "end_time": "2020-04-20T01:50:00.543350Z",
     "start_time": "2020-04-20T01:50:00.236106Z"
    }
   },
   "outputs": [],
   "source": [
    "image = cv2.imread(frames_path + '/frame' + str(4217) + '.png')\n",
    "plt.imshow(image)"
   ]
  },
  {
   "cell_type": "markdown",
   "metadata": {},
   "source": [
    "## Trial 3 "
   ]
  },
  {
   "cell_type": "code",
   "execution_count": null,
   "metadata": {
    "ExecuteTime": {
     "end_time": "2020-04-20T01:50:00.829243Z",
     "start_time": "2020-04-20T01:50:00.545356Z"
    }
   },
   "outputs": [],
   "source": [
    "image = cv2.imread(frames_path + '/frame' + str(4261) + '.png')\n",
    "plt.imshow(image)"
   ]
  },
  {
   "cell_type": "code",
   "execution_count": null,
   "metadata": {
    "ExecuteTime": {
     "end_time": "2020-04-20T01:50:01.109822Z",
     "start_time": "2020-04-20T01:50:00.831015Z"
    }
   },
   "outputs": [],
   "source": [
    "image = cv2.imread(frames_path + '/frame' + str(4262) + '.png')\n",
    "plt.imshow(image)"
   ]
  },
  {
   "cell_type": "code",
   "execution_count": null,
   "metadata": {
    "ExecuteTime": {
     "end_time": "2020-04-20T01:50:01.388431Z",
     "start_time": "2020-04-20T01:50:01.111431Z"
    }
   },
   "outputs": [],
   "source": [
    "image = cv2.imread(frames_path + '/frame' + str(4263) + '.png')\n",
    "plt.imshow(image)"
   ]
  },
  {
   "cell_type": "code",
   "execution_count": null,
   "metadata": {
    "ExecuteTime": {
     "end_time": "2020-04-20T01:50:01.667119Z",
     "start_time": "2020-04-20T01:50:01.390160Z"
    }
   },
   "outputs": [],
   "source": [
    "image = cv2.imread(frames_path + '/frame' + str(4264) + '.png')\n",
    "plt.imshow(image)"
   ]
  },
  {
   "cell_type": "code",
   "execution_count": null,
   "metadata": {
    "ExecuteTime": {
     "end_time": "2020-04-20T01:50:01.927380Z",
     "start_time": "2020-04-20T01:50:01.672518Z"
    }
   },
   "outputs": [],
   "source": [
    "image = cv2.imread(frames_path + '/frame' + str(4265) + '.png')\n",
    "plt.imshow(image)"
   ]
  },
  {
   "cell_type": "code",
   "execution_count": null,
   "metadata": {
    "ExecuteTime": {
     "end_time": "2020-04-20T01:50:02.183707Z",
     "start_time": "2020-04-20T01:50:01.930480Z"
    }
   },
   "outputs": [],
   "source": [
    "image = cv2.imread(frames_path + '/frame' + str(4266) + '.png')\n",
    "plt.imshow(image)"
   ]
  },
  {
   "cell_type": "code",
   "execution_count": null,
   "metadata": {
    "ExecuteTime": {
     "end_time": "2020-04-20T01:50:02.437258Z",
     "start_time": "2020-04-20T01:50:02.185215Z"
    }
   },
   "outputs": [],
   "source": [
    "image = cv2.imread(frames_path + '/frame' + str(4267) + '.png')\n",
    "plt.imshow(image)"
   ]
  },
  {
   "cell_type": "code",
   "execution_count": null,
   "metadata": {
    "ExecuteTime": {
     "end_time": "2020-04-20T01:50:02.715110Z",
     "start_time": "2020-04-20T01:50:02.438732Z"
    }
   },
   "outputs": [],
   "source": [
    "image = cv2.imread(frames_path + '/frame' + str(4268) + '.png')\n",
    "plt.imshow(image)"
   ]
  },
  {
   "cell_type": "markdown",
   "metadata": {},
   "source": [
    "## Trial 4 "
   ]
  },
  {
   "cell_type": "code",
   "execution_count": null,
   "metadata": {
    "ExecuteTime": {
     "end_time": "2020-04-20T01:50:02.970809Z",
     "start_time": "2020-04-20T01:50:02.716939Z"
    }
   },
   "outputs": [],
   "source": [
    "image = cv2.imread(frames_path + '/frame' + str(4314) + '.png')\n",
    "plt.imshow(image)"
   ]
  },
  {
   "cell_type": "code",
   "execution_count": null,
   "metadata": {
    "ExecuteTime": {
     "end_time": "2020-04-20T01:50:03.232843Z",
     "start_time": "2020-04-20T01:50:02.972261Z"
    }
   },
   "outputs": [],
   "source": [
    "image = cv2.imread(frames_path + '/frame' + str(4315) + '.png')\n",
    "plt.imshow(image)"
   ]
  },
  {
   "cell_type": "code",
   "execution_count": null,
   "metadata": {
    "ExecuteTime": {
     "end_time": "2020-04-20T01:50:03.492834Z",
     "start_time": "2020-04-20T01:50:03.234559Z"
    }
   },
   "outputs": [],
   "source": [
    "image = cv2.imread(frames_path + '/frame' + str(4316) + '.png')\n",
    "plt.imshow(image)"
   ]
  },
  {
   "cell_type": "code",
   "execution_count": null,
   "metadata": {
    "ExecuteTime": {
     "end_time": "2020-04-20T01:50:03.753057Z",
     "start_time": "2020-04-20T01:50:03.494581Z"
    }
   },
   "outputs": [],
   "source": [
    "image = cv2.imread(frames_path + '/frame' + str(4317) + '.png')\n",
    "plt.imshow(image)"
   ]
  },
  {
   "cell_type": "code",
   "execution_count": null,
   "metadata": {
    "ExecuteTime": {
     "end_time": "2020-04-20T01:50:04.048660Z",
     "start_time": "2020-04-20T01:50:03.754603Z"
    }
   },
   "outputs": [],
   "source": [
    "image = cv2.imread(frames_path + '/frame' + str(4318) + '.png')\n",
    "plt.imshow(image)"
   ]
  },
  {
   "cell_type": "code",
   "execution_count": null,
   "metadata": {
    "ExecuteTime": {
     "end_time": "2020-04-20T01:50:04.304070Z",
     "start_time": "2020-04-20T01:50:04.050737Z"
    }
   },
   "outputs": [],
   "source": [
    "image = cv2.imread(frames_path + '/frame' + str(4319) + '.png')\n",
    "plt.imshow(image)"
   ]
  },
  {
   "cell_type": "code",
   "execution_count": null,
   "metadata": {
    "ExecuteTime": {
     "end_time": "2020-04-20T01:50:04.558892Z",
     "start_time": "2020-04-20T01:50:04.305510Z"
    }
   },
   "outputs": [],
   "source": [
    "image = cv2.imread(frames_path + '/frame' + str(4320) + '.png')\n",
    "plt.imshow(image)"
   ]
  },
  {
   "cell_type": "markdown",
   "metadata": {},
   "source": [
    "# Using functions"
   ]
  },
  {
   "cell_type": "code",
   "execution_count": null,
   "metadata": {
    "ExecuteTime": {
     "end_time": "2020-04-20T01:50:04.706378Z",
     "start_time": "2020-04-20T01:50:04.560509Z"
    }
   },
   "outputs": [],
   "source": [
    "fr_temp = frames_path + '/frame' + str(4319) + '.png'\n",
    "center_blob, top_left_blob, bottom_right_blob = find_blob(fr_temp,correct_tags, angle=340, draw=True)"
   ]
  },
  {
   "cell_type": "markdown",
   "metadata": {},
   "source": [
    "# Trial loop "
   ]
  },
  {
   "cell_type": "code",
   "execution_count": null,
   "metadata": {
    "ExecuteTime": {
     "end_time": "2020-04-20T01:50:04.738305Z",
     "start_time": "2020-04-20T01:50:04.708341Z"
    }
   },
   "outputs": [],
   "source": [
    "trial_unique = behavioral_data.trialNumber.unique()\n",
    "block_unique = behavioral_data.blockNumber.unique()\n",
    "\n",
    "numBlocks = len(block_unique)\n",
    "numTrials = len(trial_unique)\n",
    "\n",
    "totalNumTrials = len(behavioral_data)"
   ]
  },
  {
   "cell_type": "markdown",
   "metadata": {},
   "source": [
    "## Without lag correction "
   ]
  },
  {
   "cell_type": "code",
   "execution_count": null,
   "metadata": {
    "ExecuteTime": {
     "end_time": "2020-04-20T01:55:29.712323Z",
     "start_time": "2020-04-20T01:50:04.740483Z"
    }
   },
   "outputs": [],
   "source": [
    "coordinates_df = pd.DataFrame()\n",
    "utils.print_progress_bar(0, totalNumTrials, prefix='Progress:', suffix='Complete', length=50)\n",
    "tot_trial = 0\n",
    "row = 0\n",
    "for block in block_unique:\n",
    "    if not np.isnan(block):\n",
    "#         print('Processing block ' + str(block) + ' out of ' + str(len(block_unique)))\n",
    "\n",
    "        for trial in trial_unique:\n",
    "            if not np.isnan(trial):\n",
    "                # find frames where trial happens\n",
    "                trial_data = annotation_data[(annotation_data['block'] == block) & (annotation_data['trial'] == trial)]\n",
    "                image_onset_frame = int(trial_data.loc[trial_data['task'] == 'Image onset', 'frame'])\n",
    "\n",
    "                # find where image onset finishes\n",
    "                image_offset_frame = int(trial_data.loc[trial_data['task'] == 'Adjust task', 'frame'])\n",
    "\n",
    "                # now that we have the frames, lay them in a variable:\n",
    "                selected_frames = np.arange(image_onset_frame,image_offset_frame,1)\n",
    "\n",
    "                # find angle in behavioral data\n",
    "                angle_trial = int(behavioral_data.loc[\n",
    "                    (behavioral_data['blockNumber'] == block) & (behavioral_data['trialNumber'] == trial), 'stimLocationDeg'])\n",
    "\n",
    "                # we want to find the blob for all frames during image onset\n",
    "                numFrames = len(selected_frames)\n",
    "\n",
    "                count_in_trial = 0\n",
    "                for frame in selected_frames:\n",
    "\n",
    "                    # first define path to that frame\n",
    "                    fr_temp = frames_path + '/frame' + str(frame) + '.png'\n",
    "\n",
    "                    # find blob for that frame, input the angle in that trial\n",
    "                    center_blob, top_left_blob, bottom_right_blob = find_blob(fr_temp,correct_tags,\n",
    "                                                                              angle=angle_trial, draw=True,\n",
    "                                                                             progress_bar=False)\n",
    "\n",
    "                    # if we couldn't find at least 10 tags:\n",
    "                    if center_blob == 'Error':\n",
    "                        \n",
    "                        # if it's not the first one in trial, just copy the one before\n",
    "                        if count_in_trial != 0:\n",
    "                            coordinates_df.loc[row, 'BLOCK'] = coordinates_df.loc[row-1, 'BLOCK']\n",
    "                            coordinates_df.loc[row, 'TRIAL'] = coordinates_df.loc[row-1, 'TRIAL']\n",
    "                            coordinates_df.loc[row, 'ANGLE'] = coordinates_df.loc[row-1, 'ANGLE']\n",
    "                            coordinates_df.loc[row, 'ORDER'] = count_in_trial\n",
    "                            coordinates_df.loc[row, 'CENTER_BLOB_X'] = coordinates_df.loc[row-1, 'CENTER_BLOB_X']\n",
    "                            coordinates_df.loc[row, 'CENTER_BLOB_Y'] = coordinates_df.loc[row-1, 'CENTER_BLOB_Y']\n",
    "                            coordinates_df.loc[row, 'TOP_LEFT_BLOB_X'] = coordinates_df.loc[row-1, 'TOP_LEFT_BLOB_X']\n",
    "                            coordinates_df.loc[row, 'TOP_LEFT_BLOB_Y'] = coordinates_df.loc[row-1, 'TOP_LEFT_BLOB_Y']\n",
    "                            coordinates_df.loc[row, 'BOTTOM_RIGHT_BLOB_X'] =  coordinates_df.loc[row-1, 'BOTTOM_RIGHT_BLOB_X']\n",
    "                            coordinates_df.loc[row, 'BOTTOM_RIGHT_BLOB_Y'] =  coordinates_df.loc[row-1, 'BOTTOM_RIGHT_BLOB_Y']\n",
    "                        \n",
    "                        elif count_in_trial == 0: # if it is indeed the first trial, then have the same as next trial                   \n",
    "                            coordinates_df.loc[row, 'BLOCK'] = float('nan')\n",
    "                            coordinates_df.loc[row, 'TRIAL'] = float('nan')\n",
    "                            coordinates_df.loc[row, 'ANGLE'] = float('nan')\n",
    "                            coordinates_df.loc[row, 'ORDER'] = float('nan')\n",
    "                            coordinates_df.loc[row, 'CENTER_BLOB_X'] = float('nan')\n",
    "                            coordinates_df.loc[row, 'CENTER_BLOB_Y'] = float('nan')\n",
    "                            coordinates_df.loc[row, 'TOP_LEFT_BLOB_X'] = float('nan')\n",
    "                            coordinates_df.loc[row, 'TOP_LEFT_BLOB_Y'] = float('nan')\n",
    "                            coordinates_df.loc[row, 'BOTTOM_RIGHT_BLOB_X'] =  float('nan')\n",
    "                            coordinates_df.loc[row, 'BOTTOM_RIGHT_BLOB_Y'] =  float('nan')\n",
    "                    else:\n",
    "                        coordinates_df.loc[row, 'BLOCK'] = block\n",
    "                        coordinates_df.loc[row, 'TRIAL'] = trial\n",
    "                        coordinates_df.loc[row, 'ANGLE'] = angle_trial\n",
    "                        coordinates_df.loc[row, 'ORDER'] = count_in_trial\n",
    "                        coordinates_df.loc[row, 'CENTER_BLOB_X'] = center_blob[0]\n",
    "                        coordinates_df.loc[row, 'CENTER_BLOB_Y'] = center_blob[1]\n",
    "                        coordinates_df.loc[row, 'TOP_LEFT_BLOB_X'] = top_left_blob[0]\n",
    "                        coordinates_df.loc[row, 'TOP_LEFT_BLOB_Y'] = top_left_blob[1]\n",
    "                        coordinates_df.loc[row, 'BOTTOM_RIGHT_BLOB_X'] =  bottom_right_blob[0]\n",
    "                        coordinates_df.loc[row, 'BOTTOM_RIGHT_BLOB_Y'] =  bottom_right_blob[1]\n",
    "\n",
    "\n",
    "                    count_in_trial += 1\n",
    "                    row += 1\n",
    "                    \n",
    "            tot_trial += 1\n",
    "            utils.print_progress_bar(tot_trial, totalNumTrials, prefix='Progress:', suffix='Complete', length=50)\n",
    "\n",
    "\n",
    "\n",
    "\n"
   ]
  },
  {
   "cell_type": "code",
   "execution_count": null,
   "metadata": {},
   "outputs": [],
   "source": []
  }
 ],
 "metadata": {
  "kernelspec": {
   "display_name": "Python 3",
   "language": "python",
   "name": "python3"
  },
  "language_info": {
   "codemirror_mode": {
    "name": "ipython",
    "version": 3
   },
   "file_extension": ".py",
   "mimetype": "text/x-python",
   "name": "python",
   "nbconvert_exporter": "python",
   "pygments_lexer": "ipython3",
   "version": "3.7.6"
  },
  "toc": {
   "base_numbering": 1,
   "nav_menu": {},
   "number_sections": true,
   "sideBar": true,
   "skip_h1_title": false,
   "title_cell": "Table of Contents",
   "title_sidebar": "Contents",
   "toc_cell": false,
   "toc_position": {
    "height": "calc(100% - 180px)",
    "left": "10px",
    "top": "150px",
    "width": "274.391px"
   },
   "toc_section_display": true,
   "toc_window_display": true
  },
  "varInspector": {
   "cols": {
    "lenName": 16,
    "lenType": 16,
    "lenVar": 40
   },
   "kernels_config": {
    "python": {
     "delete_cmd_postfix": "",
     "delete_cmd_prefix": "del ",
     "library": "var_list.py",
     "varRefreshCmd": "print(var_dic_list())"
    },
    "r": {
     "delete_cmd_postfix": ") ",
     "delete_cmd_prefix": "rm(",
     "library": "var_list.r",
     "varRefreshCmd": "cat(var_dic_list()) "
    }
   },
   "types_to_exclude": [
    "module",
    "function",
    "builtin_function_or_method",
    "instance",
    "_Feature"
   ],
   "window_display": false
  }
 },
 "nbformat": 4,
 "nbformat_minor": 4
}
