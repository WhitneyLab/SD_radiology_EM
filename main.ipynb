{
 "cells": [
  {
   "cell_type": "markdown",
   "metadata": {},
   "source": [
    "# Initialize"
   ]
  },
  {
   "cell_type": "code",
   "execution_count": null,
   "metadata": {
    "ExecuteTime": {
     "end_time": "2020-04-19T20:08:52.601268Z",
     "start_time": "2020-04-19T20:08:52.560300Z"
    }
   },
   "outputs": [],
   "source": [
    "from pupil_apriltags import Detector, Detection\n",
    "from collections import defaultdict\n",
    "from typing import List, Dict, Tuple, Any\n",
    "from glob import glob\n",
    "import numpy as np\n",
    "import os\n",
    "import time\n",
    "import sys\n",
    "import cv2\n",
    "from math import atan2, degrees\n",
    "import platform\n",
    "import socket\n",
    "import matplotlib.pyplot as plt\n",
    "import math\n",
    "from statsFuncs import trigonometry as trig\n",
    "from statsFuncs import numbers\n",
    "import pandas as pd\n",
    "import utils\n",
    "import multiprocessing\n",
    "from joblib import Parallel, delayed\n",
    "from numpy import save\n",
    "import pupil_functions\n",
    "import decimal\n",
    "import pickle\n",
    "from find_blob import find_blob\n",
    "\n",
    "%load_ext autoreload\n",
    "%autoreload 2"
   ]
  },
  {
   "cell_type": "markdown",
   "metadata": {},
   "source": [
    "# load data "
   ]
  },
  {
   "cell_type": "code",
   "execution_count": null,
   "metadata": {
    "ExecuteTime": {
     "end_time": "2020-04-19T19:56:39.307702Z",
     "start_time": "2020-04-19T19:56:39.277512Z"
    }
   },
   "outputs": [],
   "source": [
    "datapath = os.getcwd() + '/data/'\n",
    "\n",
    "if platform.system() == 'Darwin':\n",
    "    EM_path = '/Users/teresa/Dropbox/Naive_Spring_Eye_Recordings_TCB/Subject_CG/003/'    \n",
    "elif platform.system() == 'Linux':\n",
    "    EM_path = '/home/teresa/Documents/Naive_Spring_Eye_Recordings/Subject_CG/003/'"
   ]
  },
  {
   "cell_type": "code",
   "execution_count": null,
   "metadata": {
    "ExecuteTime": {
     "end_time": "2020-04-19T19:56:55.241535Z",
     "start_time": "2020-04-19T19:56:55.207858Z"
    }
   },
   "outputs": [],
   "source": [
    "behavioral_data = pd.read_csv(datapath + 'CG_behavioral_results.csv')\n",
    "\n",
    "# cut file just to have the 255 rows of data\n",
    "behavioral_data = behavioral_data.iloc[range(255)]\n",
    "\n",
    "# annotation_data = pd.read_csv(datapath + 'pl_msgs.csv')\n",
    "timestamp_path = EM_path + 'world_timestamps.npy'"
   ]
  },
  {
   "cell_type": "markdown",
   "metadata": {},
   "source": [
    "# Set up parallel computing "
   ]
  },
  {
   "cell_type": "code",
   "execution_count": null,
   "metadata": {
    "ExecuteTime": {
     "end_time": "2020-04-19T19:57:05.430537Z",
     "start_time": "2020-04-19T19:57:05.399724Z"
    }
   },
   "outputs": [],
   "source": [
    "num_cores = multiprocessing.cpu_count()"
   ]
  },
  {
   "cell_type": "markdown",
   "metadata": {},
   "source": [
    "# Extract frames "
   ]
  },
  {
   "cell_type": "markdown",
   "metadata": {},
   "source": []
  },
  {
   "cell_type": "markdown",
   "metadata": {},
   "source": [
    "Create frame path using OS package\n",
    "Define the name of the directory to be created"
   ]
  },
  {
   "cell_type": "code",
   "execution_count": null,
   "metadata": {
    "ExecuteTime": {
     "end_time": "2020-04-19T19:57:06.377872Z",
     "start_time": "2020-04-19T19:57:06.344745Z"
    },
    "scrolled": true
   },
   "outputs": [],
   "source": [
    "video_path = EM_path + 'world.mp4'\n",
    "frames_path = EM_path + 'frames'\n",
    "\n",
    "try:\n",
    "    if not os.path.exists(frames_path):\n",
    "        os.mkdir(frames_path)\n",
    "        print(\"Successfully created the directory %s \" % frames_path)\n",
    "    else:\n",
    "        print(\"Directory already exists %s \" % frames_path)\n",
    "except OSError:\n",
    "    print(\"Creation of the directory %s failed\" % frames_path)\n"
   ]
  },
  {
   "cell_type": "markdown",
   "metadata": {},
   "source": [
    "How many frames does the video have?"
   ]
  },
  {
   "cell_type": "code",
   "execution_count": null,
   "metadata": {
    "ExecuteTime": {
     "end_time": "2020-04-19T19:57:07.083102Z",
     "start_time": "2020-04-19T19:57:07.047569Z"
    }
   },
   "outputs": [],
   "source": [
    "cap = cv2.VideoCapture(video_path)\n",
    "total_frames = int(cap.get(cv2.CAP_PROP_FRAME_COUNT))\n",
    "print(total_frames)"
   ]
  },
  {
   "cell_type": "markdown",
   "metadata": {},
   "source": [
    "No need to do the extract frames if they have been extracted before."
   ]
  },
  {
   "cell_type": "code",
   "execution_count": null,
   "metadata": {
    "ExecuteTime": {
     "end_time": "2020-04-19T19:57:07.886185Z",
     "start_time": "2020-04-19T19:57:07.748274Z"
    }
   },
   "outputs": [],
   "source": [
    "if not len(os.listdir(frames_path)) == total_frames:\n",
    "    utils.extract_frames(video_path, frames_path, total_frames)\n",
    "else:\n",
    "    print('Frames previously extracted, moving forward')\n",
    "\n"
   ]
  },
  {
   "cell_type": "code",
   "execution_count": null,
   "metadata": {
    "ExecuteTime": {
     "end_time": "2020-04-19T19:57:10.330371Z",
     "start_time": "2020-04-19T19:57:08.523162Z"
    }
   },
   "outputs": [],
   "source": [
    "#------- fixing np load issue ------\n",
    "# save np.load\n",
    "np_load_old = np.load\n",
    "\n",
    "# modify the default parameters of np.load\n",
    "np.load = lambda *a,**k: np_load_old(*a, allow_pickle=True, **k)\n",
    "\n",
    "#------- finished np load issue ------\n",
    "\n",
    "frames_file = datapath + 'frames.npy'\n",
    "tags_file = datapath + 'tag_ids.npy'\n",
    "\n",
    "if not os.path.exists(datapath + 'frames.npy'):\n",
    "    print('Detecting tags, it will take some time...')\n",
    "    frames, tag_ids = utils.detect_tags(frames_path)\n",
    "    print('Done! Saving results...')\n",
    "    save(frames_file, frames)\n",
    "    save(tags_file, tag_ids)\n",
    "    with open(\"frames.txt\", \"wb\") as fp:   #Pickling\n",
    "        pickle.dump(frames, fp)\n",
    "    with open(\"tagids.txt\", \"wb\") as fp:   #Pickling\n",
    "        pickle.dump(tag_ids, fp)\n",
    "    print('Done!') \n",
    "else:\n",
    "    print('Tags per frame were already extracted, loading the files....')\n",
    "    frames = np.load(frames_file)\n",
    "    tag_ids = np.load(tags_file)\n",
    "#     with open(\"frames.txt\", \"rb\") as fp:   # Unpickling\n",
    "#         frames_copy = pickle.load(fp)\n",
    "    with open(\"tagids.txt\", \"rb\") as fp:   # Unpickling\n",
    "        tagids_copy = pickle.load(fp)\n",
    "    print('Frames and tag IDs were loaded')\n",
    "\n",
    "#------restore np load ------\n",
    "# restore np.load for future normal usage\n",
    "np.load = np_load_old"
   ]
  },
  {
   "cell_type": "code",
   "execution_count": null,
   "metadata": {
    "ExecuteTime": {
     "end_time": "2020-04-19T19:57:11.022203Z",
     "start_time": "2020-04-19T19:57:10.996596Z"
    }
   },
   "outputs": [],
   "source": [
    "# Descriptive print statements\n",
    "# tag_count = sum(count for count in tagids_copy.values())\n",
    "# print(f'Detected {tag_count} tags in {len(frames_copy)} frames.')\n",
    "# print(f'Found IDs of {list(tagids_copy.keys())}.')"
   ]
  },
  {
   "cell_type": "code",
   "execution_count": null,
   "metadata": {
    "ExecuteTime": {
     "end_time": "2020-04-19T19:57:11.889734Z",
     "start_time": "2020-04-19T19:57:11.858641Z"
    }
   },
   "outputs": [],
   "source": [
    "correct_tags = [0, 1, 2, 3, 5, 6, 7, 8, 9, 11]"
   ]
  },
  {
   "cell_type": "markdown",
   "metadata": {},
   "source": [
    "Check in how many of the frames it didn't find 10 tags"
   ]
  },
  {
   "cell_type": "markdown",
   "metadata": {},
   "source": [
    "# Annotations "
   ]
  },
  {
   "cell_type": "code",
   "execution_count": null,
   "metadata": {
    "ExecuteTime": {
     "end_time": "2020-04-19T19:57:18.500643Z",
     "start_time": "2020-04-19T19:57:12.936213Z"
    }
   },
   "outputs": [],
   "source": [
    "annotation_data = pupil_functions.load_annotations(EM_path)"
   ]
  },
  {
   "cell_type": "code",
   "execution_count": null,
   "metadata": {
    "ExecuteTime": {
     "end_time": "2020-04-19T19:57:19.253645Z",
     "start_time": "2020-04-19T19:57:19.208203Z"
    }
   },
   "outputs": [],
   "source": [
    "annotation_data[[\"trial\", \"block\"]] = annotation_data[[\"trial\", \"block\"]].apply(pd.to_numeric)"
   ]
  },
  {
   "cell_type": "markdown",
   "metadata": {},
   "source": [
    "# Timestamps "
   ]
  },
  {
   "cell_type": "code",
   "execution_count": null,
   "metadata": {
    "ExecuteTime": {
     "end_time": "2020-04-19T19:57:20.049447Z",
     "start_time": "2020-04-19T19:57:20.001950Z"
    }
   },
   "outputs": [],
   "source": [
    "world_timestamps = np.load(timestamp_path)\n",
    "world_timestamps_df = pd.DataFrame(index=range(total_frames), columns=['FRAME','TIMESTAMP'])\n",
    "world_timestamps_df['TIMESTAMP'] = world_timestamps\n",
    "world_timestamps_df['FRAME'] = range(total_frames)"
   ]
  },
  {
   "cell_type": "code",
   "execution_count": null,
   "metadata": {
    "ExecuteTime": {
     "end_time": "2020-04-19T19:57:20.874226Z",
     "start_time": "2020-04-19T19:57:20.842753Z"
    }
   },
   "outputs": [],
   "source": [
    "world_timestamps_df['TIMESTAMP_ROUND'] = round(world_timestamps_df['TIMESTAMP'], 4)\n",
    "annotation_data['timestamp_round'] = round(annotation_data['timestamp'], 4)"
   ]
  },
  {
   "cell_type": "markdown",
   "metadata": {},
   "source": [
    "Note that first frame is frame 0"
   ]
  },
  {
   "cell_type": "code",
   "execution_count": null,
   "metadata": {
    "ExecuteTime": {
     "end_time": "2020-04-19T19:57:22.033332Z",
     "start_time": "2020-04-19T19:57:22.004308Z"
    }
   },
   "outputs": [],
   "source": [
    "# # Find timestamp where experiment begins:\n",
    "# exp_beging_ts = np.float64(annotation_data.loc[annotation_data['exp_event'] == 'Block 1 Begins', 'timestamp_round'])\n",
    "\n",
    "# # find frame for that timestamp\n",
    "# exp_beging_fr = world_timestamps_df.loc[world_timestamps_df['TIMESTAMP_ROUND'] == numbers.closest(world_timestamps_df['TIMESTAMP_ROUND'], exp_beging_ts), 'FRAME']"
   ]
  },
  {
   "cell_type": "code",
   "execution_count": null,
   "metadata": {
    "ExecuteTime": {
     "end_time": "2020-04-19T19:57:24.180809Z",
     "start_time": "2020-04-19T19:57:22.913048Z"
    }
   },
   "outputs": [],
   "source": [
    "for annotation_idx in range(len(annotation_data)):\n",
    "    \n",
    "    msg = annotation_data.loc[annotation_idx, 'exp_event']\n",
    "    msg_ts = annotation_data.loc[annotation_idx, 'timestamp']\n",
    "    \n",
    "    closest_ts = numbers.closest(world_timestamps_df['TIMESTAMP'], msg_ts)\n",
    "    # find frame:\n",
    "    msg_frame = int(world_timestamps_df.loc[world_timestamps_df['TIMESTAMP'] == closest_ts, 'FRAME'])\n",
    "    \n",
    "    annotation_data.loc[annotation_idx, 'frame'] = msg_frame"
   ]
  },
  {
   "cell_type": "markdown",
   "metadata": {},
   "source": [
    "## Trial 1 "
   ]
  },
  {
   "cell_type": "code",
   "execution_count": null,
   "metadata": {
    "ExecuteTime": {
     "end_time": "2020-04-18T00:37:52.746726Z",
     "start_time": "2020-04-18T00:37:52.421038Z"
    },
    "scrolled": true
   },
   "outputs": [],
   "source": [
    "image = cv2.imread(frames_path + '/frame' + str(4154) + '.png')\n",
    "plt.imshow(image)"
   ]
  },
  {
   "cell_type": "code",
   "execution_count": null,
   "metadata": {
    "ExecuteTime": {
     "end_time": "2020-04-18T00:39:54.170724Z",
     "start_time": "2020-04-18T00:39:53.923959Z"
    }
   },
   "outputs": [],
   "source": [
    "image = cv2.imread(frames_path + '/frame' + str(4155) + '.png')\n",
    "plt.imshow(image)"
   ]
  },
  {
   "cell_type": "code",
   "execution_count": null,
   "metadata": {
    "ExecuteTime": {
     "end_time": "2020-04-18T00:41:53.256128Z",
     "start_time": "2020-04-18T00:41:52.912900Z"
    }
   },
   "outputs": [],
   "source": [
    "image = cv2.imread(frames_path + '/frame' + str(4156) + '.png')\n",
    "plt.imshow(image)"
   ]
  },
  {
   "cell_type": "code",
   "execution_count": null,
   "metadata": {
    "ExecuteTime": {
     "end_time": "2020-04-18T00:43:59.452012Z",
     "start_time": "2020-04-18T00:43:59.183046Z"
    }
   },
   "outputs": [],
   "source": [
    "image = cv2.imread(frames_path + '/frame' + str(4157) + '.png')\n",
    "plt.imshow(image)"
   ]
  },
  {
   "cell_type": "code",
   "execution_count": null,
   "metadata": {
    "ExecuteTime": {
     "end_time": "2020-04-18T22:31:45.019076Z",
     "start_time": "2020-04-18T22:31:44.726441Z"
    }
   },
   "outputs": [],
   "source": [
    "image = cv2.imread(frames_path + '/frame' + str(4158) + '.png')\n",
    "plt.imshow(image)"
   ]
  },
  {
   "cell_type": "code",
   "execution_count": null,
   "metadata": {
    "ExecuteTime": {
     "end_time": "2020-04-18T22:37:04.537266Z",
     "start_time": "2020-04-18T22:37:04.311512Z"
    }
   },
   "outputs": [],
   "source": [
    "image = cv2.imread(frames_path + '/frame' + str(4159) + '.png')\n",
    "plt.imshow(image)"
   ]
  },
  {
   "cell_type": "code",
   "execution_count": null,
   "metadata": {
    "ExecuteTime": {
     "end_time": "2020-04-18T22:38:08.358208Z",
     "start_time": "2020-04-18T22:38:08.123140Z"
    }
   },
   "outputs": [],
   "source": [
    "image = cv2.imread(frames_path + '/frame' + str(4160) + '.png')\n",
    "plt.imshow(image)"
   ]
  },
  {
   "cell_type": "code",
   "execution_count": null,
   "metadata": {
    "ExecuteTime": {
     "end_time": "2020-04-18T22:38:16.785315Z",
     "start_time": "2020-04-18T22:38:16.561155Z"
    }
   },
   "outputs": [],
   "source": [
    "image = cv2.imread(frames_path + '/frame' + str(4161) + '.png')\n",
    "plt.imshow(image)"
   ]
  },
  {
   "cell_type": "markdown",
   "metadata": {},
   "source": [
    "## Trial 2 "
   ]
  },
  {
   "cell_type": "code",
   "execution_count": null,
   "metadata": {
    "ExecuteTime": {
     "end_time": "2020-04-18T22:35:13.630945Z",
     "start_time": "2020-04-18T22:35:13.405804Z"
    }
   },
   "outputs": [],
   "source": [
    "image = cv2.imread(frames_path + '/frame' + str(4212) + '.png')\n",
    "plt.imshow(image)"
   ]
  },
  {
   "cell_type": "code",
   "execution_count": null,
   "metadata": {
    "ExecuteTime": {
     "end_time": "2020-04-18T22:35:21.104646Z",
     "start_time": "2020-04-18T22:35:20.876881Z"
    }
   },
   "outputs": [],
   "source": [
    "image = cv2.imread(frames_path + '/frame' + str(4213) + '.png')\n",
    "plt.imshow(image)"
   ]
  },
  {
   "cell_type": "code",
   "execution_count": null,
   "metadata": {
    "ExecuteTime": {
     "end_time": "2020-04-18T22:35:28.641349Z",
     "start_time": "2020-04-18T22:35:28.414640Z"
    }
   },
   "outputs": [],
   "source": [
    "image = cv2.imread(frames_path + '/frame' + str(4214) + '.png')\n",
    "plt.imshow(image)"
   ]
  },
  {
   "cell_type": "code",
   "execution_count": null,
   "metadata": {
    "ExecuteTime": {
     "end_time": "2020-04-18T22:36:06.147564Z",
     "start_time": "2020-04-18T22:36:05.922081Z"
    }
   },
   "outputs": [],
   "source": [
    "image = cv2.imread(frames_path + '/frame' + str(4215) + '.png')\n",
    "plt.imshow(image)"
   ]
  },
  {
   "cell_type": "code",
   "execution_count": null,
   "metadata": {
    "ExecuteTime": {
     "end_time": "2020-04-18T22:36:16.501063Z",
     "start_time": "2020-04-18T22:36:16.274426Z"
    }
   },
   "outputs": [],
   "source": [
    "image = cv2.imread(frames_path + '/frame' + str(4216) + '.png')\n",
    "plt.imshow(image)"
   ]
  },
  {
   "cell_type": "code",
   "execution_count": null,
   "metadata": {
    "ExecuteTime": {
     "end_time": "2020-04-18T22:36:30.041184Z",
     "start_time": "2020-04-18T22:36:29.705343Z"
    }
   },
   "outputs": [],
   "source": [
    "image = cv2.imread(frames_path + '/frame' + str(4217) + '.png')\n",
    "plt.imshow(image)"
   ]
  },
  {
   "cell_type": "markdown",
   "metadata": {},
   "source": [
    "## Trial 3 "
   ]
  },
  {
   "cell_type": "code",
   "execution_count": null,
   "metadata": {
    "ExecuteTime": {
     "end_time": "2020-04-18T22:43:56.504170Z",
     "start_time": "2020-04-18T22:43:56.274060Z"
    }
   },
   "outputs": [],
   "source": [
    "image = cv2.imread(frames_path + '/frame' + str(4261) + '.png')\n",
    "plt.imshow(image)"
   ]
  },
  {
   "cell_type": "code",
   "execution_count": null,
   "metadata": {
    "ExecuteTime": {
     "end_time": "2020-04-18T22:44:12.120221Z",
     "start_time": "2020-04-18T22:44:11.890255Z"
    }
   },
   "outputs": [],
   "source": [
    "image = cv2.imread(frames_path + '/frame' + str(4262) + '.png')\n",
    "plt.imshow(image)"
   ]
  },
  {
   "cell_type": "code",
   "execution_count": null,
   "metadata": {
    "ExecuteTime": {
     "end_time": "2020-04-18T22:44:19.865620Z",
     "start_time": "2020-04-18T22:44:19.630495Z"
    }
   },
   "outputs": [],
   "source": [
    "image = cv2.imread(frames_path + '/frame' + str(4263) + '.png')\n",
    "plt.imshow(image)"
   ]
  },
  {
   "cell_type": "code",
   "execution_count": null,
   "metadata": {
    "ExecuteTime": {
     "end_time": "2020-04-18T22:44:31.289581Z",
     "start_time": "2020-04-18T22:44:31.060821Z"
    }
   },
   "outputs": [],
   "source": [
    "image = cv2.imread(frames_path + '/frame' + str(4264) + '.png')\n",
    "plt.imshow(image)"
   ]
  },
  {
   "cell_type": "code",
   "execution_count": null,
   "metadata": {
    "ExecuteTime": {
     "end_time": "2020-04-18T22:45:21.309518Z",
     "start_time": "2020-04-18T22:45:21.080261Z"
    }
   },
   "outputs": [],
   "source": [
    "image = cv2.imread(frames_path + '/frame' + str(4265) + '.png')\n",
    "plt.imshow(image)"
   ]
  },
  {
   "cell_type": "code",
   "execution_count": null,
   "metadata": {
    "ExecuteTime": {
     "end_time": "2020-04-18T22:45:29.632480Z",
     "start_time": "2020-04-18T22:45:29.405447Z"
    }
   },
   "outputs": [],
   "source": [
    "image = cv2.imread(frames_path + '/frame' + str(4266) + '.png')\n",
    "plt.imshow(image)"
   ]
  },
  {
   "cell_type": "code",
   "execution_count": null,
   "metadata": {
    "ExecuteTime": {
     "end_time": "2020-04-18T22:45:39.200795Z",
     "start_time": "2020-04-18T22:45:38.969535Z"
    }
   },
   "outputs": [],
   "source": [
    "image = cv2.imread(frames_path + '/frame' + str(4267) + '.png')\n",
    "plt.imshow(image)"
   ]
  },
  {
   "cell_type": "code",
   "execution_count": null,
   "metadata": {
    "ExecuteTime": {
     "end_time": "2020-04-18T22:46:20.914065Z",
     "start_time": "2020-04-18T22:46:20.684803Z"
    }
   },
   "outputs": [],
   "source": [
    "image = cv2.imread(frames_path + '/frame' + str(4268) + '.png')\n",
    "plt.imshow(image)"
   ]
  },
  {
   "cell_type": "markdown",
   "metadata": {},
   "source": [
    "## Trial 4 "
   ]
  },
  {
   "cell_type": "code",
   "execution_count": null,
   "metadata": {
    "ExecuteTime": {
     "end_time": "2020-04-18T22:50:50.068419Z",
     "start_time": "2020-04-18T22:50:49.836418Z"
    }
   },
   "outputs": [],
   "source": [
    "image = cv2.imread(frames_path + '/frame' + str(4314) + '.png')\n",
    "plt.imshow(image)"
   ]
  },
  {
   "cell_type": "code",
   "execution_count": null,
   "metadata": {
    "ExecuteTime": {
     "end_time": "2020-04-18T22:50:58.572381Z",
     "start_time": "2020-04-18T22:50:58.341224Z"
    }
   },
   "outputs": [],
   "source": [
    "image = cv2.imread(frames_path + '/frame' + str(4315) + '.png')\n",
    "plt.imshow(image)"
   ]
  },
  {
   "cell_type": "code",
   "execution_count": null,
   "metadata": {
    "ExecuteTime": {
     "end_time": "2020-04-18T22:51:06.689994Z",
     "start_time": "2020-04-18T22:51:06.462885Z"
    }
   },
   "outputs": [],
   "source": [
    "image = cv2.imread(frames_path + '/frame' + str(4316) + '.png')\n",
    "plt.imshow(image)"
   ]
  },
  {
   "cell_type": "code",
   "execution_count": null,
   "metadata": {
    "ExecuteTime": {
     "end_time": "2020-04-18T22:51:24.400566Z",
     "start_time": "2020-04-18T22:51:24.172001Z"
    }
   },
   "outputs": [],
   "source": [
    "image = cv2.imread(frames_path + '/frame' + str(4317) + '.png')\n",
    "plt.imshow(image)"
   ]
  },
  {
   "cell_type": "code",
   "execution_count": null,
   "metadata": {
    "ExecuteTime": {
     "end_time": "2020-04-18T22:51:58.017766Z",
     "start_time": "2020-04-18T22:51:57.787978Z"
    }
   },
   "outputs": [],
   "source": [
    "image = cv2.imread(frames_path + '/frame' + str(4318) + '.png')\n",
    "plt.imshow(image)"
   ]
  },
  {
   "cell_type": "code",
   "execution_count": null,
   "metadata": {
    "ExecuteTime": {
     "end_time": "2020-04-18T22:52:08.282808Z",
     "start_time": "2020-04-18T22:52:08.050749Z"
    }
   },
   "outputs": [],
   "source": [
    "image = cv2.imread(frames_path + '/frame' + str(4319) + '.png')\n",
    "plt.imshow(image)"
   ]
  },
  {
   "cell_type": "code",
   "execution_count": null,
   "metadata": {
    "ExecuteTime": {
     "end_time": "2020-04-18T22:52:16.332737Z",
     "start_time": "2020-04-18T22:52:16.103842Z"
    }
   },
   "outputs": [],
   "source": [
    "image = cv2.imread(frames_path + '/frame' + str(4320) + '.png')\n",
    "plt.imshow(image)"
   ]
  },
  {
   "cell_type": "markdown",
   "metadata": {},
   "source": [
    "# Using functions"
   ]
  },
  {
   "cell_type": "code",
   "execution_count": null,
   "metadata": {
    "ExecuteTime": {
     "end_time": "2020-04-19T19:57:59.669880Z",
     "start_time": "2020-04-19T19:57:59.151841Z"
    }
   },
   "outputs": [],
   "source": [
    "fr_temp = frames_path + '/frame' + str(4319) + '.png'\n",
    "center_blob, top_left_blob, bottom_right_blob = find_blob(fr_temp,correct_tags, angle=340, draw=True)"
   ]
  },
  {
   "cell_type": "markdown",
   "metadata": {},
   "source": [
    "# Trial loop "
   ]
  },
  {
   "cell_type": "code",
   "execution_count": null,
   "metadata": {
    "ExecuteTime": {
     "end_time": "2020-04-19T20:00:18.099956Z",
     "start_time": "2020-04-19T20:00:18.059575Z"
    }
   },
   "outputs": [],
   "source": [
    "trial_unique = behavioral_data.trialNumber.unique()\n",
    "block_unique = behavioral_data.blockNumber.unique()\n",
    "\n",
    "numBlocks = len(block_unique)\n",
    "numTrials = len(trial_unique)\n",
    "\n",
    "totalNumTrials = len(behavioral_data)"
   ]
  },
  {
   "cell_type": "markdown",
   "metadata": {},
   "source": [
    "## Without lag correction "
   ]
  },
  {
   "cell_type": "code",
   "execution_count": null,
   "metadata": {
    "ExecuteTime": {
     "start_time": "2020-04-19T20:09:49.550Z"
    }
   },
   "outputs": [],
   "source": [
    "coordinates_df = pd.DataFrame()\n",
    "utils.print_progress_bar(0, totalNumTrials, prefix='Progress:', suffix='Complete', length=50)\n",
    "tot_trial = 0\n",
    "row = 0\n",
    "for block in block_unique:\n",
    "    if not np.isnan(block):\n",
    "#         print('Processing block ' + str(block) + ' out of ' + str(len(block_unique)))\n",
    "\n",
    "        for trial in trial_unique:\n",
    "            if not np.isnan(trial):\n",
    "                # find frames where trial happens\n",
    "                trial_data = annotation_data[(annotation_data['block'] == block) & (annotation_data['trial'] == trial)]\n",
    "                image_onset_frame = int(trial_data.loc[trial_data['task'] == 'Image onset', 'frame'])\n",
    "\n",
    "                # find where image onset finishes\n",
    "                image_offset_frame = int(trial_data.loc[trial_data['task'] == 'Adjust task', 'frame'])\n",
    "\n",
    "                # now that we have the frames, lay them in a variable:\n",
    "                selected_frames = np.arange(image_onset_frame,image_offset_frame,1)\n",
    "\n",
    "                # find angle in behavioral data\n",
    "                angle_trial = int(behavioral_data.loc[\n",
    "                    (behavioral_data['blockNumber'] == block) & (behavioral_data['trialNumber'] == trial), 'stimLocationDeg'])\n",
    "\n",
    "                # we want to find the blob for all frames during image onset\n",
    "                numFrames = len(selected_frames)\n",
    "\n",
    "                count_in_trial = 0\n",
    "                for frame in selected_frames:\n",
    "\n",
    "                    # first define path to that frame\n",
    "                    fr_temp = frames_path + '/frame' + str(frame) + '.png'\n",
    "\n",
    "                    # find blob for that frame, input the angle in that trial\n",
    "                    center_blob, top_left_blob, bottom_right_blob = find_blob(fr_temp,correct_tags,\n",
    "                                                                              angle=angle_trial, draw=True,\n",
    "                                                                             progress_bar=False)\n",
    "\n",
    "                    # if we couldn't find at least 10 tags:\n",
    "                    if center_blob == 'Error':\n",
    "                        \n",
    "                        # if it's not the first one in trial, just copy the one before\n",
    "                        if count_in_trial != 0:\n",
    "                            coordinates_df.loc[row, 'BLOCK'] = coordinates_df.loc[row-1, 'BLOCK']\n",
    "                            coordinates_df.loc[row, 'TRIAL'] = coordinates_df.loc[row-1, 'TRIAL']\n",
    "                            coordinates_df.loc[row, 'ANGLE'] = coordinates_df.loc[row-1, 'ANGLE']\n",
    "                            coordinates_df.loc[row, 'ORDER'] = count_in_trial\n",
    "                            coordinates_df.loc[row, 'CENTER_BLOB_X'] = coordinates_df.loc[row-1, 'CENTER_BLOB_X']\n",
    "                            coordinates_df.loc[row, 'CENTER_BLOB_Y'] = coordinates_df.loc[row-1, 'CENTER_BLOB_Y']\n",
    "                            coordinates_df.loc[row, 'TOP_LEFT_BLOB_X'] = coordinates_df.loc[row-1, 'TOP_LEFT_BLOB_X']\n",
    "                            coordinates_df.loc[row, 'TOP_LEFT_BLOB_Y'] = coordinates_df.loc[row-1, 'TOP_LEFT_BLOB_Y']\n",
    "                            coordinates_df.loc[row, 'BOTTOM_RIGHT_BLOB_X'] =  coordinates_df.loc[row-1, 'BOTTOM_RIGHT_BLOB_X']\n",
    "                            coordinates_df.loc[row, 'BOTTOM_RIGHT_BLOB_Y'] =  coordinates_df.loc[row-1, 'BOTTOM_RIGHT_BLOB_Y']\n",
    "                        \n",
    "                        elif count_in_trial == 0: # if it is indeed the first trial, then have the same as next trial                   \n",
    "                            coordinates_df.loc[row, 'BLOCK'] = float('nan')\n",
    "                            coordinates_df.loc[row, 'TRIAL'] = float('nan')\n",
    "                            coordinates_df.loc[row, 'ANGLE'] = float('nan')\n",
    "                            coordinates_df.loc[row, 'ORDER'] = float('nan')\n",
    "                            coordinates_df.loc[row, 'CENTER_BLOB_X'] = float('nan')\n",
    "                            coordinates_df.loc[row, 'CENTER_BLOB_Y'] = float('nan')\n",
    "                            coordinates_df.loc[row, 'TOP_LEFT_BLOB_X'] = float('nan')\n",
    "                            coordinates_df.loc[row, 'TOP_LEFT_BLOB_Y'] = float('nan')\n",
    "                            coordinates_df.loc[row, 'BOTTOM_RIGHT_BLOB_X'] =  float('nan')\n",
    "                            coordinates_df.loc[row, 'BOTTOM_RIGHT_BLOB_Y'] =  float('nan')\n",
    "                    else:\n",
    "                        coordinates_df.loc[row, 'BLOCK'] = block\n",
    "                        coordinates_df.loc[row, 'TRIAL'] = trial\n",
    "                        coordinates_df.loc[row, 'ANGLE'] = angle_trial\n",
    "                        coordinates_df.loc[row, 'ORDER'] = count_in_trial\n",
    "                        coordinates_df.loc[row, 'CENTER_BLOB_X'] = center_blob[0]\n",
    "                        coordinates_df.loc[row, 'CENTER_BLOB_Y'] = center_blob[1]\n",
    "                        coordinates_df.loc[row, 'TOP_LEFT_BLOB_X'] = top_left_blob[0]\n",
    "                        coordinates_df.loc[row, 'TOP_LEFT_BLOB_Y'] = top_left_blob[1]\n",
    "                        coordinates_df.loc[row, 'BOTTOM_RIGHT_BLOB_X'] =  bottom_right_blob[0]\n",
    "                        coordinates_df.loc[row, 'BOTTOM_RIGHT_BLOB_Y'] =  bottom_right_blob[1]\n",
    "\n",
    "\n",
    "                    count_in_trial += 1\n",
    "                    row += 1\n",
    "                    \n",
    "            tot_trial += 1\n",
    "            utils.print_progress_bar(tot_trial, totalNumTrials, prefix='Progress:', suffix='Complete', length=50)\n",
    "\n",
    "\n",
    "\n",
    "\n"
   ]
  },
  {
   "cell_type": "code",
   "execution_count": null,
   "metadata": {},
   "outputs": [],
   "source": []
  }
 ],
 "metadata": {
  "kernelspec": {
   "display_name": "Python 3",
   "language": "python",
   "name": "python3"
  },
  "language_info": {
   "codemirror_mode": {
    "name": "ipython",
    "version": 3
   },
   "file_extension": ".py",
   "mimetype": "text/x-python",
   "name": "python",
   "nbconvert_exporter": "python",
   "pygments_lexer": "ipython3",
   "version": "3.7.6"
  },
  "toc": {
   "base_numbering": 1,
   "nav_menu": {},
   "number_sections": true,
   "sideBar": true,
   "skip_h1_title": false,
   "title_cell": "Table of Contents",
   "title_sidebar": "Contents",
   "toc_cell": false,
   "toc_position": {
    "height": "calc(100% - 180px)",
    "left": "10px",
    "top": "150px",
    "width": "274.391px"
   },
   "toc_section_display": true,
   "toc_window_display": true
  },
  "varInspector": {
   "cols": {
    "lenName": 16,
    "lenType": 16,
    "lenVar": 40
   },
   "kernels_config": {
    "python": {
     "delete_cmd_postfix": "",
     "delete_cmd_prefix": "del ",
     "library": "var_list.py",
     "varRefreshCmd": "print(var_dic_list())"
    },
    "r": {
     "delete_cmd_postfix": ") ",
     "delete_cmd_prefix": "rm(",
     "library": "var_list.r",
     "varRefreshCmd": "cat(var_dic_list()) "
    }
   },
   "types_to_exclude": [
    "module",
    "function",
    "builtin_function_or_method",
    "instance",
    "_Feature"
   ],
   "window_display": false
  }
 },
 "nbformat": 4,
 "nbformat_minor": 4
}
